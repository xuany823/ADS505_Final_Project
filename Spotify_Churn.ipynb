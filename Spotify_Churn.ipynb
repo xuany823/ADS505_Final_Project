{
  "nbformat": 4,
  "nbformat_minor": 0,
  "metadata": {
    "colab": {
      "provenance": [],
      "machine_shape": "hm",
      "gpuType": "V5E1",
      "toc_visible": true,
      "include_colab_link": true
    },
    "kernelspec": {
      "name": "python3",
      "display_name": "Python 3"
    },
    "language_info": {
      "name": "python"
    },
    "accelerator": "TPU"
  },
  "cells": [
    {
      "cell_type": "markdown",
      "metadata": {
        "id": "view-in-github",
        "colab_type": "text"
      },
      "source": [
        "<a href=\"https://colab.research.google.com/github/xuany823/ADS505_Final_Project/blob/Michelle's-branch/Spotify_Churn.ipynb\" target=\"_parent\"><img src=\"https://colab.research.google.com/assets/colab-badge.svg\" alt=\"Open In Colab\"/></a>"
      ]
    },
    {
      "cell_type": "markdown",
      "source": [
        "# Libraries"
      ],
      "metadata": {
        "id": "AVTRsVWZU-iw"
      }
    },
    {
      "cell_type": "code",
      "source": [
        "# !git clone https://github.com/xuany823/ADS505_Final_Project.git\n",
        "# %cd ADS505_Final_Project\n",
        "# Run it if you haven't. You'll be permanently set for our collaborative environment."
      ],
      "metadata": {
        "id": "1noIcVABdd5C"
      },
      "execution_count": null,
      "outputs": []
    },
    {
      "cell_type": "code",
      "source": [
        "# Data handling\n",
        "import pandas as pd\n",
        "import numpy as np\n",
        "import seaborn as sns\n",
        "import matplotlib.pyplot as plt\n",
        "\n",
        "# Viz\n",
        "import plotly.express as px\n",
        "import plotly.graph_objs as go\n",
        "import plotly.figure_factory as ff\n",
        "\n",
        "# Sklearn\n",
        "from sklearn import model_selection, metrics\n",
        "from sklearn.model_selection import train_test_split\n",
        "from sklearn.pipeline import Pipeline\n",
        "from sklearn.impute import SimpleImputer\n",
        "from sklearn.preprocessing import StandardScaler, OneHotEncoder\n",
        "from sklearn.compose import ColumnTransformer\n",
        "from sklearn.metrics import confusion_matrix, classification_report\n",
        "from sklearn.linear_model import LogisticRegressionCV\n",
        "# Michael\n",
        "\n",
        "# Class Imbalance\n",
        "from imblearn.over_sampling import SMOTE\n",
        "\n",
        "# Feature selection\n",
        "\n",
        "# Models\n",
        "import xgboost as xgb\n",
        "#import lightgbm as lgb\n",
        "from sklearn import linear_model, ensemble\n",
        "from sklearn.linear_model import LogisticRegression\n",
        "from sklearn.experimental import enable_hist_gradient_boosting\n",
        "from sklearn.ensemble import HistGradientBoostingRegressor\n",
        "\n",
        "# dmba\n",
        "from dmba import plotDecisionTree, gainsChart, liftChart\n",
        "from dmba import classificationSummary\n",
        "\n",
        "# # Remove warnings\n",
        "import warnings\n",
        "# warnings.filterwarnings('ignore')"
      ],
      "metadata": {
        "id": "gLRojjdXZ27w"
      },
      "execution_count": 83,
      "outputs": []
    },
    {
      "cell_type": "markdown",
      "source": [
        "# Setup & Data loading"
      ],
      "metadata": {
        "id": "Wjvp9QLcSQ4y"
      }
    },
    {
      "cell_type": "code",
      "execution_count": null,
      "metadata": {
        "id": "gl8pNAKMJCfV",
        "colab": {
          "base_uri": "https://localhost:8080/"
        },
        "outputId": "9c3beed3-b355-4181-fcab-308c4593d7d1"
      },
      "outputs": [
        {
          "output_type": "stream",
          "name": "stdout",
          "text": [
            "Cloning into 'ADS505_Final_Project'...\n",
            "remote: Enumerating objects: 75, done.\u001b[K\n",
            "remote: Counting objects: 100% (75/75), done.\u001b[K\n",
            "remote: Compressing objects: 100% (66/66), done.\u001b[K\n",
            "remote: Total 75 (delta 33), reused 27 (delta 8), pack-reused 0 (from 0)\u001b[K\n",
            "Receiving objects: 100% (75/75), 4.24 MiB | 28.37 MiB/s, done.\n",
            "Resolving deltas: 100% (33/33), done.\n",
            "/content/ADS505_Final_Project/ADS505_Final_Project/ADS505_Final_Project/ADS505_Final_Project\n"
          ]
        }
      ],
      "source": [
        "# Clone from our repo into Colab\n",
        "!git clone https://github.com/xuany823/ADS505_Final_Project.git\n",
        "%cd ADS505_Final_Project\n",
        "\n",
        "data_path = \"Datasets/\"\n",
        "\n",
        "df = pd.read_csv(f\"{data_path}spotify_churn_dataset.csv\")\n"
      ]
    },
    {
      "cell_type": "markdown",
      "source": [
        "## Data Preparation"
      ],
      "metadata": {
        "id": "bfLrd4xLSRVa"
      }
    },
    {
      "cell_type": "code",
      "source": [
        "# Quick check\n",
        "print(df.shape)"
      ],
      "metadata": {
        "id": "v49Eo9zlQk7K",
        "colab": {
          "base_uri": "https://localhost:8080/"
        },
        "outputId": "9ebce0e7-e206-4f32-d02e-9a9cbe64253b"
      },
      "execution_count": null,
      "outputs": [
        {
          "output_type": "stream",
          "name": "stdout",
          "text": [
            "(8000, 12)\n"
          ]
        }
      ]
    },
    {
      "cell_type": "code",
      "source": [
        "# Quick preview of the df\n",
        "\n",
        "df.head()"
      ],
      "metadata": {
        "id": "4FisPckC7UF-",
        "colab": {
          "base_uri": "https://localhost:8080/",
          "height": 226
        },
        "outputId": "44102461-70a8-45a6-ef02-cd6ffb241cca"
      },
      "execution_count": null,
      "outputs": [
        {
          "output_type": "execute_result",
          "data": {
            "text/plain": [
              "   user_id  gender  age country subscription_type  listening_time  \\\n",
              "0        1  Female   54      CA              Free              26   \n",
              "1        2   Other   33      DE            Family             141   \n",
              "2        3    Male   38      AU           Premium             199   \n",
              "3        4  Female   22      CA           Student              36   \n",
              "4        5   Other   29      US            Family             250   \n",
              "\n",
              "   songs_played_per_day  skip_rate device_type  ads_listened_per_week  \\\n",
              "0                    23       0.20     Desktop                     31   \n",
              "1                    62       0.34         Web                      0   \n",
              "2                    38       0.04      Mobile                      0   \n",
              "3                     2       0.31      Mobile                      0   \n",
              "4                    57       0.36      Mobile                      0   \n",
              "\n",
              "   offline_listening  is_churned  \n",
              "0                  0           1  \n",
              "1                  1           0  \n",
              "2                  1           1  \n",
              "3                  1           0  \n",
              "4                  1           1  "
            ],
            "text/html": [
              "\n",
              "  <div id=\"df-42ba67dc-3b49-4676-baa1-b49702fb09f8\" class=\"colab-df-container\">\n",
              "    <div>\n",
              "<style scoped>\n",
              "    .dataframe tbody tr th:only-of-type {\n",
              "        vertical-align: middle;\n",
              "    }\n",
              "\n",
              "    .dataframe tbody tr th {\n",
              "        vertical-align: top;\n",
              "    }\n",
              "\n",
              "    .dataframe thead th {\n",
              "        text-align: right;\n",
              "    }\n",
              "</style>\n",
              "<table border=\"1\" class=\"dataframe\">\n",
              "  <thead>\n",
              "    <tr style=\"text-align: right;\">\n",
              "      <th></th>\n",
              "      <th>user_id</th>\n",
              "      <th>gender</th>\n",
              "      <th>age</th>\n",
              "      <th>country</th>\n",
              "      <th>subscription_type</th>\n",
              "      <th>listening_time</th>\n",
              "      <th>songs_played_per_day</th>\n",
              "      <th>skip_rate</th>\n",
              "      <th>device_type</th>\n",
              "      <th>ads_listened_per_week</th>\n",
              "      <th>offline_listening</th>\n",
              "      <th>is_churned</th>\n",
              "    </tr>\n",
              "  </thead>\n",
              "  <tbody>\n",
              "    <tr>\n",
              "      <th>0</th>\n",
              "      <td>1</td>\n",
              "      <td>Female</td>\n",
              "      <td>54</td>\n",
              "      <td>CA</td>\n",
              "      <td>Free</td>\n",
              "      <td>26</td>\n",
              "      <td>23</td>\n",
              "      <td>0.20</td>\n",
              "      <td>Desktop</td>\n",
              "      <td>31</td>\n",
              "      <td>0</td>\n",
              "      <td>1</td>\n",
              "    </tr>\n",
              "    <tr>\n",
              "      <th>1</th>\n",
              "      <td>2</td>\n",
              "      <td>Other</td>\n",
              "      <td>33</td>\n",
              "      <td>DE</td>\n",
              "      <td>Family</td>\n",
              "      <td>141</td>\n",
              "      <td>62</td>\n",
              "      <td>0.34</td>\n",
              "      <td>Web</td>\n",
              "      <td>0</td>\n",
              "      <td>1</td>\n",
              "      <td>0</td>\n",
              "    </tr>\n",
              "    <tr>\n",
              "      <th>2</th>\n",
              "      <td>3</td>\n",
              "      <td>Male</td>\n",
              "      <td>38</td>\n",
              "      <td>AU</td>\n",
              "      <td>Premium</td>\n",
              "      <td>199</td>\n",
              "      <td>38</td>\n",
              "      <td>0.04</td>\n",
              "      <td>Mobile</td>\n",
              "      <td>0</td>\n",
              "      <td>1</td>\n",
              "      <td>1</td>\n",
              "    </tr>\n",
              "    <tr>\n",
              "      <th>3</th>\n",
              "      <td>4</td>\n",
              "      <td>Female</td>\n",
              "      <td>22</td>\n",
              "      <td>CA</td>\n",
              "      <td>Student</td>\n",
              "      <td>36</td>\n",
              "      <td>2</td>\n",
              "      <td>0.31</td>\n",
              "      <td>Mobile</td>\n",
              "      <td>0</td>\n",
              "      <td>1</td>\n",
              "      <td>0</td>\n",
              "    </tr>\n",
              "    <tr>\n",
              "      <th>4</th>\n",
              "      <td>5</td>\n",
              "      <td>Other</td>\n",
              "      <td>29</td>\n",
              "      <td>US</td>\n",
              "      <td>Family</td>\n",
              "      <td>250</td>\n",
              "      <td>57</td>\n",
              "      <td>0.36</td>\n",
              "      <td>Mobile</td>\n",
              "      <td>0</td>\n",
              "      <td>1</td>\n",
              "      <td>1</td>\n",
              "    </tr>\n",
              "  </tbody>\n",
              "</table>\n",
              "</div>\n",
              "    <div class=\"colab-df-buttons\">\n",
              "\n",
              "  <div class=\"colab-df-container\">\n",
              "    <button class=\"colab-df-convert\" onclick=\"convertToInteractive('df-42ba67dc-3b49-4676-baa1-b49702fb09f8')\"\n",
              "            title=\"Convert this dataframe to an interactive table.\"\n",
              "            style=\"display:none;\">\n",
              "\n",
              "  <svg xmlns=\"http://www.w3.org/2000/svg\" height=\"24px\" viewBox=\"0 -960 960 960\">\n",
              "    <path d=\"M120-120v-720h720v720H120Zm60-500h600v-160H180v160Zm220 220h160v-160H400v160Zm0 220h160v-160H400v160ZM180-400h160v-160H180v160Zm440 0h160v-160H620v160ZM180-180h160v-160H180v160Zm440 0h160v-160H620v160Z\"/>\n",
              "  </svg>\n",
              "    </button>\n",
              "\n",
              "  <style>\n",
              "    .colab-df-container {\n",
              "      display:flex;\n",
              "      gap: 12px;\n",
              "    }\n",
              "\n",
              "    .colab-df-convert {\n",
              "      background-color: #E8F0FE;\n",
              "      border: none;\n",
              "      border-radius: 50%;\n",
              "      cursor: pointer;\n",
              "      display: none;\n",
              "      fill: #1967D2;\n",
              "      height: 32px;\n",
              "      padding: 0 0 0 0;\n",
              "      width: 32px;\n",
              "    }\n",
              "\n",
              "    .colab-df-convert:hover {\n",
              "      background-color: #E2EBFA;\n",
              "      box-shadow: 0px 1px 2px rgba(60, 64, 67, 0.3), 0px 1px 3px 1px rgba(60, 64, 67, 0.15);\n",
              "      fill: #174EA6;\n",
              "    }\n",
              "\n",
              "    .colab-df-buttons div {\n",
              "      margin-bottom: 4px;\n",
              "    }\n",
              "\n",
              "    [theme=dark] .colab-df-convert {\n",
              "      background-color: #3B4455;\n",
              "      fill: #D2E3FC;\n",
              "    }\n",
              "\n",
              "    [theme=dark] .colab-df-convert:hover {\n",
              "      background-color: #434B5C;\n",
              "      box-shadow: 0px 1px 3px 1px rgba(0, 0, 0, 0.15);\n",
              "      filter: drop-shadow(0px 1px 2px rgba(0, 0, 0, 0.3));\n",
              "      fill: #FFFFFF;\n",
              "    }\n",
              "  </style>\n",
              "\n",
              "    <script>\n",
              "      const buttonEl =\n",
              "        document.querySelector('#df-42ba67dc-3b49-4676-baa1-b49702fb09f8 button.colab-df-convert');\n",
              "      buttonEl.style.display =\n",
              "        google.colab.kernel.accessAllowed ? 'block' : 'none';\n",
              "\n",
              "      async function convertToInteractive(key) {\n",
              "        const element = document.querySelector('#df-42ba67dc-3b49-4676-baa1-b49702fb09f8');\n",
              "        const dataTable =\n",
              "          await google.colab.kernel.invokeFunction('convertToInteractive',\n",
              "                                                    [key], {});\n",
              "        if (!dataTable) return;\n",
              "\n",
              "        const docLinkHtml = 'Like what you see? Visit the ' +\n",
              "          '<a target=\"_blank\" href=https://colab.research.google.com/notebooks/data_table.ipynb>data table notebook</a>'\n",
              "          + ' to learn more about interactive tables.';\n",
              "        element.innerHTML = '';\n",
              "        dataTable['output_type'] = 'display_data';\n",
              "        await google.colab.output.renderOutput(dataTable, element);\n",
              "        const docLink = document.createElement('div');\n",
              "        docLink.innerHTML = docLinkHtml;\n",
              "        element.appendChild(docLink);\n",
              "      }\n",
              "    </script>\n",
              "  </div>\n",
              "\n",
              "\n",
              "    <div id=\"df-c2b7fafb-d72a-496e-8e12-d2407aadda77\">\n",
              "      <button class=\"colab-df-quickchart\" onclick=\"quickchart('df-c2b7fafb-d72a-496e-8e12-d2407aadda77')\"\n",
              "                title=\"Suggest charts\"\n",
              "                style=\"display:none;\">\n",
              "\n",
              "<svg xmlns=\"http://www.w3.org/2000/svg\" height=\"24px\"viewBox=\"0 0 24 24\"\n",
              "     width=\"24px\">\n",
              "    <g>\n",
              "        <path d=\"M19 3H5c-1.1 0-2 .9-2 2v14c0 1.1.9 2 2 2h14c1.1 0 2-.9 2-2V5c0-1.1-.9-2-2-2zM9 17H7v-7h2v7zm4 0h-2V7h2v10zm4 0h-2v-4h2v4z\"/>\n",
              "    </g>\n",
              "</svg>\n",
              "      </button>\n",
              "\n",
              "<style>\n",
              "  .colab-df-quickchart {\n",
              "      --bg-color: #E8F0FE;\n",
              "      --fill-color: #1967D2;\n",
              "      --hover-bg-color: #E2EBFA;\n",
              "      --hover-fill-color: #174EA6;\n",
              "      --disabled-fill-color: #AAA;\n",
              "      --disabled-bg-color: #DDD;\n",
              "  }\n",
              "\n",
              "  [theme=dark] .colab-df-quickchart {\n",
              "      --bg-color: #3B4455;\n",
              "      --fill-color: #D2E3FC;\n",
              "      --hover-bg-color: #434B5C;\n",
              "      --hover-fill-color: #FFFFFF;\n",
              "      --disabled-bg-color: #3B4455;\n",
              "      --disabled-fill-color: #666;\n",
              "  }\n",
              "\n",
              "  .colab-df-quickchart {\n",
              "    background-color: var(--bg-color);\n",
              "    border: none;\n",
              "    border-radius: 50%;\n",
              "    cursor: pointer;\n",
              "    display: none;\n",
              "    fill: var(--fill-color);\n",
              "    height: 32px;\n",
              "    padding: 0;\n",
              "    width: 32px;\n",
              "  }\n",
              "\n",
              "  .colab-df-quickchart:hover {\n",
              "    background-color: var(--hover-bg-color);\n",
              "    box-shadow: 0 1px 2px rgba(60, 64, 67, 0.3), 0 1px 3px 1px rgba(60, 64, 67, 0.15);\n",
              "    fill: var(--button-hover-fill-color);\n",
              "  }\n",
              "\n",
              "  .colab-df-quickchart-complete:disabled,\n",
              "  .colab-df-quickchart-complete:disabled:hover {\n",
              "    background-color: var(--disabled-bg-color);\n",
              "    fill: var(--disabled-fill-color);\n",
              "    box-shadow: none;\n",
              "  }\n",
              "\n",
              "  .colab-df-spinner {\n",
              "    border: 2px solid var(--fill-color);\n",
              "    border-color: transparent;\n",
              "    border-bottom-color: var(--fill-color);\n",
              "    animation:\n",
              "      spin 1s steps(1) infinite;\n",
              "  }\n",
              "\n",
              "  @keyframes spin {\n",
              "    0% {\n",
              "      border-color: transparent;\n",
              "      border-bottom-color: var(--fill-color);\n",
              "      border-left-color: var(--fill-color);\n",
              "    }\n",
              "    20% {\n",
              "      border-color: transparent;\n",
              "      border-left-color: var(--fill-color);\n",
              "      border-top-color: var(--fill-color);\n",
              "    }\n",
              "    30% {\n",
              "      border-color: transparent;\n",
              "      border-left-color: var(--fill-color);\n",
              "      border-top-color: var(--fill-color);\n",
              "      border-right-color: var(--fill-color);\n",
              "    }\n",
              "    40% {\n",
              "      border-color: transparent;\n",
              "      border-right-color: var(--fill-color);\n",
              "      border-top-color: var(--fill-color);\n",
              "    }\n",
              "    60% {\n",
              "      border-color: transparent;\n",
              "      border-right-color: var(--fill-color);\n",
              "    }\n",
              "    80% {\n",
              "      border-color: transparent;\n",
              "      border-right-color: var(--fill-color);\n",
              "      border-bottom-color: var(--fill-color);\n",
              "    }\n",
              "    90% {\n",
              "      border-color: transparent;\n",
              "      border-bottom-color: var(--fill-color);\n",
              "    }\n",
              "  }\n",
              "</style>\n",
              "\n",
              "      <script>\n",
              "        async function quickchart(key) {\n",
              "          const quickchartButtonEl =\n",
              "            document.querySelector('#' + key + ' button');\n",
              "          quickchartButtonEl.disabled = true;  // To prevent multiple clicks.\n",
              "          quickchartButtonEl.classList.add('colab-df-spinner');\n",
              "          try {\n",
              "            const charts = await google.colab.kernel.invokeFunction(\n",
              "                'suggestCharts', [key], {});\n",
              "          } catch (error) {\n",
              "            console.error('Error during call to suggestCharts:', error);\n",
              "          }\n",
              "          quickchartButtonEl.classList.remove('colab-df-spinner');\n",
              "          quickchartButtonEl.classList.add('colab-df-quickchart-complete');\n",
              "        }\n",
              "        (() => {\n",
              "          let quickchartButtonEl =\n",
              "            document.querySelector('#df-c2b7fafb-d72a-496e-8e12-d2407aadda77 button');\n",
              "          quickchartButtonEl.style.display =\n",
              "            google.colab.kernel.accessAllowed ? 'block' : 'none';\n",
              "        })();\n",
              "      </script>\n",
              "    </div>\n",
              "\n",
              "    </div>\n",
              "  </div>\n"
            ],
            "application/vnd.google.colaboratory.intrinsic+json": {
              "type": "dataframe",
              "variable_name": "df",
              "summary": "{\n  \"name\": \"df\",\n  \"rows\": 8000,\n  \"fields\": [\n    {\n      \"column\": \"user_id\",\n      \"properties\": {\n        \"dtype\": \"number\",\n        \"std\": 2309,\n        \"min\": 1,\n        \"max\": 8000,\n        \"num_unique_values\": 8000,\n        \"samples\": [\n          2216,\n          2583,\n          1663\n        ],\n        \"semantic_type\": \"\",\n        \"description\": \"\"\n      }\n    },\n    {\n      \"column\": \"gender\",\n      \"properties\": {\n        \"dtype\": \"category\",\n        \"num_unique_values\": 3,\n        \"samples\": [\n          \"Female\",\n          \"Other\",\n          \"Male\"\n        ],\n        \"semantic_type\": \"\",\n        \"description\": \"\"\n      }\n    },\n    {\n      \"column\": \"age\",\n      \"properties\": {\n        \"dtype\": \"number\",\n        \"std\": 12,\n        \"min\": 16,\n        \"max\": 59,\n        \"num_unique_values\": 44,\n        \"samples\": [\n          52,\n          42,\n          51\n        ],\n        \"semantic_type\": \"\",\n        \"description\": \"\"\n      }\n    },\n    {\n      \"column\": \"country\",\n      \"properties\": {\n        \"dtype\": \"category\",\n        \"num_unique_values\": 8,\n        \"samples\": [\n          \"DE\",\n          \"IN\",\n          \"CA\"\n        ],\n        \"semantic_type\": \"\",\n        \"description\": \"\"\n      }\n    },\n    {\n      \"column\": \"subscription_type\",\n      \"properties\": {\n        \"dtype\": \"category\",\n        \"num_unique_values\": 4,\n        \"samples\": [\n          \"Family\",\n          \"Student\",\n          \"Free\"\n        ],\n        \"semantic_type\": \"\",\n        \"description\": \"\"\n      }\n    },\n    {\n      \"column\": \"listening_time\",\n      \"properties\": {\n        \"dtype\": \"number\",\n        \"std\": 84,\n        \"min\": 10,\n        \"max\": 299,\n        \"num_unique_values\": 290,\n        \"samples\": [\n          215,\n          154,\n          124\n        ],\n        \"semantic_type\": \"\",\n        \"description\": \"\"\n      }\n    },\n    {\n      \"column\": \"songs_played_per_day\",\n      \"properties\": {\n        \"dtype\": \"number\",\n        \"std\": 28,\n        \"min\": 1,\n        \"max\": 99,\n        \"num_unique_values\": 99,\n        \"samples\": [\n          36,\n          3,\n          64\n        ],\n        \"semantic_type\": \"\",\n        \"description\": \"\"\n      }\n    },\n    {\n      \"column\": \"skip_rate\",\n      \"properties\": {\n        \"dtype\": \"number\",\n        \"std\": 0.1735941404813284,\n        \"min\": 0.0,\n        \"max\": 0.6,\n        \"num_unique_values\": 61,\n        \"samples\": [\n          0.2,\n          0.46,\n          0.37\n        ],\n        \"semantic_type\": \"\",\n        \"description\": \"\"\n      }\n    },\n    {\n      \"column\": \"device_type\",\n      \"properties\": {\n        \"dtype\": \"category\",\n        \"num_unique_values\": 3,\n        \"samples\": [\n          \"Desktop\",\n          \"Web\",\n          \"Mobile\"\n        ],\n        \"semantic_type\": \"\",\n        \"description\": \"\"\n      }\n    },\n    {\n      \"column\": \"ads_listened_per_week\",\n      \"properties\": {\n        \"dtype\": \"number\",\n        \"std\": 13,\n        \"min\": 0,\n        \"max\": 49,\n        \"num_unique_values\": 46,\n        \"samples\": [\n          41,\n          36,\n          27\n        ],\n        \"semantic_type\": \"\",\n        \"description\": \"\"\n      }\n    },\n    {\n      \"column\": \"offline_listening\",\n      \"properties\": {\n        \"dtype\": \"number\",\n        \"std\": 0,\n        \"min\": 0,\n        \"max\": 1,\n        \"num_unique_values\": 2,\n        \"samples\": [\n          1,\n          0\n        ],\n        \"semantic_type\": \"\",\n        \"description\": \"\"\n      }\n    },\n    {\n      \"column\": \"is_churned\",\n      \"properties\": {\n        \"dtype\": \"number\",\n        \"std\": 0,\n        \"min\": 0,\n        \"max\": 1,\n        \"num_unique_values\": 2,\n        \"samples\": [\n          0,\n          1\n        ],\n        \"semantic_type\": \"\",\n        \"description\": \"\"\n      }\n    }\n  ]\n}"
            }
          },
          "metadata": {},
          "execution_count": 61
        }
      ]
    },
    {
      "cell_type": "code",
      "source": [
        "# More preview of the df\n",
        "\n",
        "df.sample(10).T"
      ],
      "metadata": {
        "id": "2QcHv2NAJnDW",
        "colab": {
          "base_uri": "https://localhost:8080/",
          "height": 426
        },
        "outputId": "dbac9b62-dfb1-44eb-cf3d-6f3a1648e124"
      },
      "execution_count": null,
      "outputs": [
        {
          "output_type": "execute_result",
          "data": {
            "text/plain": [
              "                          2168     4309     7315     164     5887     5149  \\\n",
              "user_id                   2169     4310     7316      165    5888     5150   \n",
              "gender                  Female   Female     Male     Male  Female    Other   \n",
              "age                         51       59       52       20      38       44   \n",
              "country                     UK       FR       IN       DE      AU       US   \n",
              "subscription_type      Student  Premium     Free   Family  Family  Student   \n",
              "listening_time             114       25      126      224     185      194   \n",
              "songs_played_per_day        56       41       23       51       2       17   \n",
              "skip_rate                 0.36     0.42     0.42     0.23    0.05     0.49   \n",
              "device_type            Desktop   Mobile  Desktop  Desktop  Mobile  Desktop   \n",
              "ads_listened_per_week        0        0       43        0       0        0   \n",
              "offline_listening            1        1        0        1       1        1   \n",
              "is_churned                   0        1        0        1       0        0   \n",
              "\n",
              "                         6398     2387    5054     1959  \n",
              "user_id                  6399     2388    5055     1960  \n",
              "gender                   Male     Male    Male   Female  \n",
              "age                        48       53      39       24  \n",
              "country                    DE       IN      FR       UK  \n",
              "subscription_type        Free  Student  Family  Student  \n",
              "listening_time            278       44     204      192  \n",
              "songs_played_per_day       34       64      48       98  \n",
              "skip_rate                0.09     0.35    0.36     0.44  \n",
              "device_type            Mobile  Desktop     Web  Desktop  \n",
              "ads_listened_per_week      13        0       0        0  \n",
              "offline_listening           0        1       1        1  \n",
              "is_churned                  1        0       1        0  "
            ],
            "text/html": [
              "\n",
              "  <div id=\"df-e046a9ee-70a6-46a4-8336-2efeb580eedb\" class=\"colab-df-container\">\n",
              "    <div>\n",
              "<style scoped>\n",
              "    .dataframe tbody tr th:only-of-type {\n",
              "        vertical-align: middle;\n",
              "    }\n",
              "\n",
              "    .dataframe tbody tr th {\n",
              "        vertical-align: top;\n",
              "    }\n",
              "\n",
              "    .dataframe thead th {\n",
              "        text-align: right;\n",
              "    }\n",
              "</style>\n",
              "<table border=\"1\" class=\"dataframe\">\n",
              "  <thead>\n",
              "    <tr style=\"text-align: right;\">\n",
              "      <th></th>\n",
              "      <th>2168</th>\n",
              "      <th>4309</th>\n",
              "      <th>7315</th>\n",
              "      <th>164</th>\n",
              "      <th>5887</th>\n",
              "      <th>5149</th>\n",
              "      <th>6398</th>\n",
              "      <th>2387</th>\n",
              "      <th>5054</th>\n",
              "      <th>1959</th>\n",
              "    </tr>\n",
              "  </thead>\n",
              "  <tbody>\n",
              "    <tr>\n",
              "      <th>user_id</th>\n",
              "      <td>2169</td>\n",
              "      <td>4310</td>\n",
              "      <td>7316</td>\n",
              "      <td>165</td>\n",
              "      <td>5888</td>\n",
              "      <td>5150</td>\n",
              "      <td>6399</td>\n",
              "      <td>2388</td>\n",
              "      <td>5055</td>\n",
              "      <td>1960</td>\n",
              "    </tr>\n",
              "    <tr>\n",
              "      <th>gender</th>\n",
              "      <td>Female</td>\n",
              "      <td>Female</td>\n",
              "      <td>Male</td>\n",
              "      <td>Male</td>\n",
              "      <td>Female</td>\n",
              "      <td>Other</td>\n",
              "      <td>Male</td>\n",
              "      <td>Male</td>\n",
              "      <td>Male</td>\n",
              "      <td>Female</td>\n",
              "    </tr>\n",
              "    <tr>\n",
              "      <th>age</th>\n",
              "      <td>51</td>\n",
              "      <td>59</td>\n",
              "      <td>52</td>\n",
              "      <td>20</td>\n",
              "      <td>38</td>\n",
              "      <td>44</td>\n",
              "      <td>48</td>\n",
              "      <td>53</td>\n",
              "      <td>39</td>\n",
              "      <td>24</td>\n",
              "    </tr>\n",
              "    <tr>\n",
              "      <th>country</th>\n",
              "      <td>UK</td>\n",
              "      <td>FR</td>\n",
              "      <td>IN</td>\n",
              "      <td>DE</td>\n",
              "      <td>AU</td>\n",
              "      <td>US</td>\n",
              "      <td>DE</td>\n",
              "      <td>IN</td>\n",
              "      <td>FR</td>\n",
              "      <td>UK</td>\n",
              "    </tr>\n",
              "    <tr>\n",
              "      <th>subscription_type</th>\n",
              "      <td>Student</td>\n",
              "      <td>Premium</td>\n",
              "      <td>Free</td>\n",
              "      <td>Family</td>\n",
              "      <td>Family</td>\n",
              "      <td>Student</td>\n",
              "      <td>Free</td>\n",
              "      <td>Student</td>\n",
              "      <td>Family</td>\n",
              "      <td>Student</td>\n",
              "    </tr>\n",
              "    <tr>\n",
              "      <th>listening_time</th>\n",
              "      <td>114</td>\n",
              "      <td>25</td>\n",
              "      <td>126</td>\n",
              "      <td>224</td>\n",
              "      <td>185</td>\n",
              "      <td>194</td>\n",
              "      <td>278</td>\n",
              "      <td>44</td>\n",
              "      <td>204</td>\n",
              "      <td>192</td>\n",
              "    </tr>\n",
              "    <tr>\n",
              "      <th>songs_played_per_day</th>\n",
              "      <td>56</td>\n",
              "      <td>41</td>\n",
              "      <td>23</td>\n",
              "      <td>51</td>\n",
              "      <td>2</td>\n",
              "      <td>17</td>\n",
              "      <td>34</td>\n",
              "      <td>64</td>\n",
              "      <td>48</td>\n",
              "      <td>98</td>\n",
              "    </tr>\n",
              "    <tr>\n",
              "      <th>skip_rate</th>\n",
              "      <td>0.36</td>\n",
              "      <td>0.42</td>\n",
              "      <td>0.42</td>\n",
              "      <td>0.23</td>\n",
              "      <td>0.05</td>\n",
              "      <td>0.49</td>\n",
              "      <td>0.09</td>\n",
              "      <td>0.35</td>\n",
              "      <td>0.36</td>\n",
              "      <td>0.44</td>\n",
              "    </tr>\n",
              "    <tr>\n",
              "      <th>device_type</th>\n",
              "      <td>Desktop</td>\n",
              "      <td>Mobile</td>\n",
              "      <td>Desktop</td>\n",
              "      <td>Desktop</td>\n",
              "      <td>Mobile</td>\n",
              "      <td>Desktop</td>\n",
              "      <td>Mobile</td>\n",
              "      <td>Desktop</td>\n",
              "      <td>Web</td>\n",
              "      <td>Desktop</td>\n",
              "    </tr>\n",
              "    <tr>\n",
              "      <th>ads_listened_per_week</th>\n",
              "      <td>0</td>\n",
              "      <td>0</td>\n",
              "      <td>43</td>\n",
              "      <td>0</td>\n",
              "      <td>0</td>\n",
              "      <td>0</td>\n",
              "      <td>13</td>\n",
              "      <td>0</td>\n",
              "      <td>0</td>\n",
              "      <td>0</td>\n",
              "    </tr>\n",
              "    <tr>\n",
              "      <th>offline_listening</th>\n",
              "      <td>1</td>\n",
              "      <td>1</td>\n",
              "      <td>0</td>\n",
              "      <td>1</td>\n",
              "      <td>1</td>\n",
              "      <td>1</td>\n",
              "      <td>0</td>\n",
              "      <td>1</td>\n",
              "      <td>1</td>\n",
              "      <td>1</td>\n",
              "    </tr>\n",
              "    <tr>\n",
              "      <th>is_churned</th>\n",
              "      <td>0</td>\n",
              "      <td>1</td>\n",
              "      <td>0</td>\n",
              "      <td>1</td>\n",
              "      <td>0</td>\n",
              "      <td>0</td>\n",
              "      <td>1</td>\n",
              "      <td>0</td>\n",
              "      <td>1</td>\n",
              "      <td>0</td>\n",
              "    </tr>\n",
              "  </tbody>\n",
              "</table>\n",
              "</div>\n",
              "    <div class=\"colab-df-buttons\">\n",
              "\n",
              "  <div class=\"colab-df-container\">\n",
              "    <button class=\"colab-df-convert\" onclick=\"convertToInteractive('df-e046a9ee-70a6-46a4-8336-2efeb580eedb')\"\n",
              "            title=\"Convert this dataframe to an interactive table.\"\n",
              "            style=\"display:none;\">\n",
              "\n",
              "  <svg xmlns=\"http://www.w3.org/2000/svg\" height=\"24px\" viewBox=\"0 -960 960 960\">\n",
              "    <path d=\"M120-120v-720h720v720H120Zm60-500h600v-160H180v160Zm220 220h160v-160H400v160Zm0 220h160v-160H400v160ZM180-400h160v-160H180v160Zm440 0h160v-160H620v160ZM180-180h160v-160H180v160Zm440 0h160v-160H620v160Z\"/>\n",
              "  </svg>\n",
              "    </button>\n",
              "\n",
              "  <style>\n",
              "    .colab-df-container {\n",
              "      display:flex;\n",
              "      gap: 12px;\n",
              "    }\n",
              "\n",
              "    .colab-df-convert {\n",
              "      background-color: #E8F0FE;\n",
              "      border: none;\n",
              "      border-radius: 50%;\n",
              "      cursor: pointer;\n",
              "      display: none;\n",
              "      fill: #1967D2;\n",
              "      height: 32px;\n",
              "      padding: 0 0 0 0;\n",
              "      width: 32px;\n",
              "    }\n",
              "\n",
              "    .colab-df-convert:hover {\n",
              "      background-color: #E2EBFA;\n",
              "      box-shadow: 0px 1px 2px rgba(60, 64, 67, 0.3), 0px 1px 3px 1px rgba(60, 64, 67, 0.15);\n",
              "      fill: #174EA6;\n",
              "    }\n",
              "\n",
              "    .colab-df-buttons div {\n",
              "      margin-bottom: 4px;\n",
              "    }\n",
              "\n",
              "    [theme=dark] .colab-df-convert {\n",
              "      background-color: #3B4455;\n",
              "      fill: #D2E3FC;\n",
              "    }\n",
              "\n",
              "    [theme=dark] .colab-df-convert:hover {\n",
              "      background-color: #434B5C;\n",
              "      box-shadow: 0px 1px 3px 1px rgba(0, 0, 0, 0.15);\n",
              "      filter: drop-shadow(0px 1px 2px rgba(0, 0, 0, 0.3));\n",
              "      fill: #FFFFFF;\n",
              "    }\n",
              "  </style>\n",
              "\n",
              "    <script>\n",
              "      const buttonEl =\n",
              "        document.querySelector('#df-e046a9ee-70a6-46a4-8336-2efeb580eedb button.colab-df-convert');\n",
              "      buttonEl.style.display =\n",
              "        google.colab.kernel.accessAllowed ? 'block' : 'none';\n",
              "\n",
              "      async function convertToInteractive(key) {\n",
              "        const element = document.querySelector('#df-e046a9ee-70a6-46a4-8336-2efeb580eedb');\n",
              "        const dataTable =\n",
              "          await google.colab.kernel.invokeFunction('convertToInteractive',\n",
              "                                                    [key], {});\n",
              "        if (!dataTable) return;\n",
              "\n",
              "        const docLinkHtml = 'Like what you see? Visit the ' +\n",
              "          '<a target=\"_blank\" href=https://colab.research.google.com/notebooks/data_table.ipynb>data table notebook</a>'\n",
              "          + ' to learn more about interactive tables.';\n",
              "        element.innerHTML = '';\n",
              "        dataTable['output_type'] = 'display_data';\n",
              "        await google.colab.output.renderOutput(dataTable, element);\n",
              "        const docLink = document.createElement('div');\n",
              "        docLink.innerHTML = docLinkHtml;\n",
              "        element.appendChild(docLink);\n",
              "      }\n",
              "    </script>\n",
              "  </div>\n",
              "\n",
              "\n",
              "    <div id=\"df-32738001-fa2d-4a48-8d92-910a73d3c41b\">\n",
              "      <button class=\"colab-df-quickchart\" onclick=\"quickchart('df-32738001-fa2d-4a48-8d92-910a73d3c41b')\"\n",
              "                title=\"Suggest charts\"\n",
              "                style=\"display:none;\">\n",
              "\n",
              "<svg xmlns=\"http://www.w3.org/2000/svg\" height=\"24px\"viewBox=\"0 0 24 24\"\n",
              "     width=\"24px\">\n",
              "    <g>\n",
              "        <path d=\"M19 3H5c-1.1 0-2 .9-2 2v14c0 1.1.9 2 2 2h14c1.1 0 2-.9 2-2V5c0-1.1-.9-2-2-2zM9 17H7v-7h2v7zm4 0h-2V7h2v10zm4 0h-2v-4h2v4z\"/>\n",
              "    </g>\n",
              "</svg>\n",
              "      </button>\n",
              "\n",
              "<style>\n",
              "  .colab-df-quickchart {\n",
              "      --bg-color: #E8F0FE;\n",
              "      --fill-color: #1967D2;\n",
              "      --hover-bg-color: #E2EBFA;\n",
              "      --hover-fill-color: #174EA6;\n",
              "      --disabled-fill-color: #AAA;\n",
              "      --disabled-bg-color: #DDD;\n",
              "  }\n",
              "\n",
              "  [theme=dark] .colab-df-quickchart {\n",
              "      --bg-color: #3B4455;\n",
              "      --fill-color: #D2E3FC;\n",
              "      --hover-bg-color: #434B5C;\n",
              "      --hover-fill-color: #FFFFFF;\n",
              "      --disabled-bg-color: #3B4455;\n",
              "      --disabled-fill-color: #666;\n",
              "  }\n",
              "\n",
              "  .colab-df-quickchart {\n",
              "    background-color: var(--bg-color);\n",
              "    border: none;\n",
              "    border-radius: 50%;\n",
              "    cursor: pointer;\n",
              "    display: none;\n",
              "    fill: var(--fill-color);\n",
              "    height: 32px;\n",
              "    padding: 0;\n",
              "    width: 32px;\n",
              "  }\n",
              "\n",
              "  .colab-df-quickchart:hover {\n",
              "    background-color: var(--hover-bg-color);\n",
              "    box-shadow: 0 1px 2px rgba(60, 64, 67, 0.3), 0 1px 3px 1px rgba(60, 64, 67, 0.15);\n",
              "    fill: var(--button-hover-fill-color);\n",
              "  }\n",
              "\n",
              "  .colab-df-quickchart-complete:disabled,\n",
              "  .colab-df-quickchart-complete:disabled:hover {\n",
              "    background-color: var(--disabled-bg-color);\n",
              "    fill: var(--disabled-fill-color);\n",
              "    box-shadow: none;\n",
              "  }\n",
              "\n",
              "  .colab-df-spinner {\n",
              "    border: 2px solid var(--fill-color);\n",
              "    border-color: transparent;\n",
              "    border-bottom-color: var(--fill-color);\n",
              "    animation:\n",
              "      spin 1s steps(1) infinite;\n",
              "  }\n",
              "\n",
              "  @keyframes spin {\n",
              "    0% {\n",
              "      border-color: transparent;\n",
              "      border-bottom-color: var(--fill-color);\n",
              "      border-left-color: var(--fill-color);\n",
              "    }\n",
              "    20% {\n",
              "      border-color: transparent;\n",
              "      border-left-color: var(--fill-color);\n",
              "      border-top-color: var(--fill-color);\n",
              "    }\n",
              "    30% {\n",
              "      border-color: transparent;\n",
              "      border-left-color: var(--fill-color);\n",
              "      border-top-color: var(--fill-color);\n",
              "      border-right-color: var(--fill-color);\n",
              "    }\n",
              "    40% {\n",
              "      border-color: transparent;\n",
              "      border-right-color: var(--fill-color);\n",
              "      border-top-color: var(--fill-color);\n",
              "    }\n",
              "    60% {\n",
              "      border-color: transparent;\n",
              "      border-right-color: var(--fill-color);\n",
              "    }\n",
              "    80% {\n",
              "      border-color: transparent;\n",
              "      border-right-color: var(--fill-color);\n",
              "      border-bottom-color: var(--fill-color);\n",
              "    }\n",
              "    90% {\n",
              "      border-color: transparent;\n",
              "      border-bottom-color: var(--fill-color);\n",
              "    }\n",
              "  }\n",
              "</style>\n",
              "\n",
              "      <script>\n",
              "        async function quickchart(key) {\n",
              "          const quickchartButtonEl =\n",
              "            document.querySelector('#' + key + ' button');\n",
              "          quickchartButtonEl.disabled = true;  // To prevent multiple clicks.\n",
              "          quickchartButtonEl.classList.add('colab-df-spinner');\n",
              "          try {\n",
              "            const charts = await google.colab.kernel.invokeFunction(\n",
              "                'suggestCharts', [key], {});\n",
              "          } catch (error) {\n",
              "            console.error('Error during call to suggestCharts:', error);\n",
              "          }\n",
              "          quickchartButtonEl.classList.remove('colab-df-spinner');\n",
              "          quickchartButtonEl.classList.add('colab-df-quickchart-complete');\n",
              "        }\n",
              "        (() => {\n",
              "          let quickchartButtonEl =\n",
              "            document.querySelector('#df-32738001-fa2d-4a48-8d92-910a73d3c41b button');\n",
              "          quickchartButtonEl.style.display =\n",
              "            google.colab.kernel.accessAllowed ? 'block' : 'none';\n",
              "        })();\n",
              "      </script>\n",
              "    </div>\n",
              "\n",
              "    </div>\n",
              "  </div>\n"
            ],
            "application/vnd.google.colaboratory.intrinsic+json": {
              "type": "dataframe",
              "summary": "{\n  \"name\": \"df\",\n  \"rows\": 12,\n  \"fields\": [\n    {\n      \"column\": 2168,\n      \"properties\": {\n        \"dtype\": \"string\",\n        \"num_unique_values\": 11,\n        \"samples\": [\n          114,\n          2169,\n          0\n        ],\n        \"semantic_type\": \"\",\n        \"description\": \"\"\n      }\n    },\n    {\n      \"column\": 4309,\n      \"properties\": {\n        \"dtype\": \"string\",\n        \"num_unique_values\": 11,\n        \"samples\": [\n          25,\n          4310,\n          0\n        ],\n        \"semantic_type\": \"\",\n        \"description\": \"\"\n      }\n    },\n    {\n      \"column\": 7315,\n      \"properties\": {\n        \"dtype\": \"string\",\n        \"num_unique_values\": 11,\n        \"samples\": [\n          126,\n          7316,\n          43\n        ],\n        \"semantic_type\": \"\",\n        \"description\": \"\"\n      }\n    },\n    {\n      \"column\": 164,\n      \"properties\": {\n        \"dtype\": \"string\",\n        \"num_unique_values\": 11,\n        \"samples\": [\n          224,\n          165,\n          0\n        ],\n        \"semantic_type\": \"\",\n        \"description\": \"\"\n      }\n    },\n    {\n      \"column\": 5887,\n      \"properties\": {\n        \"dtype\": \"string\",\n        \"num_unique_values\": 11,\n        \"samples\": [\n          185,\n          5888,\n          0\n        ],\n        \"semantic_type\": \"\",\n        \"description\": \"\"\n      }\n    },\n    {\n      \"column\": 5149,\n      \"properties\": {\n        \"dtype\": \"string\",\n        \"num_unique_values\": 11,\n        \"samples\": [\n          194,\n          5150,\n          0\n        ],\n        \"semantic_type\": \"\",\n        \"description\": \"\"\n      }\n    },\n    {\n      \"column\": 6398,\n      \"properties\": {\n        \"dtype\": \"string\",\n        \"num_unique_values\": 12,\n        \"samples\": [\n          0,\n          13,\n          6399\n        ],\n        \"semantic_type\": \"\",\n        \"description\": \"\"\n      }\n    },\n    {\n      \"column\": 2387,\n      \"properties\": {\n        \"dtype\": \"string\",\n        \"num_unique_values\": 11,\n        \"samples\": [\n          44,\n          2388,\n          0\n        ],\n        \"semantic_type\": \"\",\n        \"description\": \"\"\n      }\n    },\n    {\n      \"column\": 5054,\n      \"properties\": {\n        \"dtype\": \"string\",\n        \"num_unique_values\": 11,\n        \"samples\": [\n          204,\n          5055,\n          0\n        ],\n        \"semantic_type\": \"\",\n        \"description\": \"\"\n      }\n    },\n    {\n      \"column\": 1959,\n      \"properties\": {\n        \"dtype\": \"string\",\n        \"num_unique_values\": 11,\n        \"samples\": [\n          192,\n          1960,\n          0\n        ],\n        \"semantic_type\": \"\",\n        \"description\": \"\"\n      }\n    }\n  ]\n}"
            }
          },
          "metadata": {},
          "execution_count": 62
        }
      ]
    },
    {
      "cell_type": "code",
      "source": [
        "# Get some basic information of the df, including data type\n",
        "\n",
        "df.info()"
      ],
      "metadata": {
        "id": "LHBD82K9bMo7",
        "colab": {
          "base_uri": "https://localhost:8080/"
        },
        "outputId": "32aaefd1-bb04-4ba3-c6bb-b7d1a05506cf"
      },
      "execution_count": null,
      "outputs": [
        {
          "output_type": "stream",
          "name": "stdout",
          "text": [
            "<class 'pandas.core.frame.DataFrame'>\n",
            "RangeIndex: 8000 entries, 0 to 7999\n",
            "Data columns (total 12 columns):\n",
            " #   Column                 Non-Null Count  Dtype  \n",
            "---  ------                 --------------  -----  \n",
            " 0   user_id                8000 non-null   int64  \n",
            " 1   gender                 8000 non-null   object \n",
            " 2   age                    8000 non-null   int64  \n",
            " 3   country                8000 non-null   object \n",
            " 4   subscription_type      8000 non-null   object \n",
            " 5   listening_time         8000 non-null   int64  \n",
            " 6   songs_played_per_day   8000 non-null   int64  \n",
            " 7   skip_rate              8000 non-null   float64\n",
            " 8   device_type            8000 non-null   object \n",
            " 9   ads_listened_per_week  8000 non-null   int64  \n",
            " 10  offline_listening      8000 non-null   int64  \n",
            " 11  is_churned             8000 non-null   int64  \n",
            "dtypes: float64(1), int64(7), object(4)\n",
            "memory usage: 750.1+ KB\n"
          ]
        }
      ]
    },
    {
      "cell_type": "code",
      "source": [
        "df.isna().sum() # Checking for missing values"
      ],
      "metadata": {
        "id": "-B5dPuYoJ9Jw",
        "colab": {
          "base_uri": "https://localhost:8080/",
          "height": 460
        },
        "outputId": "949195ba-a2ea-4b8b-8f19-65bfc2ae7a74"
      },
      "execution_count": null,
      "outputs": [
        {
          "output_type": "execute_result",
          "data": {
            "text/plain": [
              "user_id                  0\n",
              "gender                   0\n",
              "age                      0\n",
              "country                  0\n",
              "subscription_type        0\n",
              "listening_time           0\n",
              "songs_played_per_day     0\n",
              "skip_rate                0\n",
              "device_type              0\n",
              "ads_listened_per_week    0\n",
              "offline_listening        0\n",
              "is_churned               0\n",
              "dtype: int64"
            ],
            "text/html": [
              "<div>\n",
              "<style scoped>\n",
              "    .dataframe tbody tr th:only-of-type {\n",
              "        vertical-align: middle;\n",
              "    }\n",
              "\n",
              "    .dataframe tbody tr th {\n",
              "        vertical-align: top;\n",
              "    }\n",
              "\n",
              "    .dataframe thead th {\n",
              "        text-align: right;\n",
              "    }\n",
              "</style>\n",
              "<table border=\"1\" class=\"dataframe\">\n",
              "  <thead>\n",
              "    <tr style=\"text-align: right;\">\n",
              "      <th></th>\n",
              "      <th>0</th>\n",
              "    </tr>\n",
              "  </thead>\n",
              "  <tbody>\n",
              "    <tr>\n",
              "      <th>user_id</th>\n",
              "      <td>0</td>\n",
              "    </tr>\n",
              "    <tr>\n",
              "      <th>gender</th>\n",
              "      <td>0</td>\n",
              "    </tr>\n",
              "    <tr>\n",
              "      <th>age</th>\n",
              "      <td>0</td>\n",
              "    </tr>\n",
              "    <tr>\n",
              "      <th>country</th>\n",
              "      <td>0</td>\n",
              "    </tr>\n",
              "    <tr>\n",
              "      <th>subscription_type</th>\n",
              "      <td>0</td>\n",
              "    </tr>\n",
              "    <tr>\n",
              "      <th>listening_time</th>\n",
              "      <td>0</td>\n",
              "    </tr>\n",
              "    <tr>\n",
              "      <th>songs_played_per_day</th>\n",
              "      <td>0</td>\n",
              "    </tr>\n",
              "    <tr>\n",
              "      <th>skip_rate</th>\n",
              "      <td>0</td>\n",
              "    </tr>\n",
              "    <tr>\n",
              "      <th>device_type</th>\n",
              "      <td>0</td>\n",
              "    </tr>\n",
              "    <tr>\n",
              "      <th>ads_listened_per_week</th>\n",
              "      <td>0</td>\n",
              "    </tr>\n",
              "    <tr>\n",
              "      <th>offline_listening</th>\n",
              "      <td>0</td>\n",
              "    </tr>\n",
              "    <tr>\n",
              "      <th>is_churned</th>\n",
              "      <td>0</td>\n",
              "    </tr>\n",
              "  </tbody>\n",
              "</table>\n",
              "</div><br><label><b>dtype:</b> int64</label>"
            ]
          },
          "metadata": {},
          "execution_count": 64
        }
      ]
    },
    {
      "cell_type": "code",
      "source": [
        "# Drop user_id column, as it would not be meaningful in the modeling\n",
        "\n",
        "df = df.drop(columns=['user_id'])"
      ],
      "metadata": {
        "id": "vbWmBTXOWo65"
      },
      "execution_count": null,
      "outputs": []
    },
    {
      "cell_type": "code",
      "source": [
        "# Getting some basic statistics for the variables\n",
        "\n",
        "df.describe(include='all').T"
      ],
      "metadata": {
        "id": "wvt-6V2hJeMZ",
        "colab": {
          "base_uri": "https://localhost:8080/",
          "height": 394
        },
        "outputId": "65fdc8b1-76a1-4bf2-c7dc-ee932d0d2b1b"
      },
      "execution_count": null,
      "outputs": [
        {
          "output_type": "execute_result",
          "data": {
            "text/plain": [
              "                        count unique      top  freq       mean        std  \\\n",
              "gender                   8000      3     Male  2691        NaN        NaN   \n",
              "age                    8000.0    NaN      NaN   NaN  37.662125  12.740359   \n",
              "country                  8000      8       AU  1034        NaN        NaN   \n",
              "subscription_type        8000      4  Premium  2115        NaN        NaN   \n",
              "listening_time         8000.0    NaN      NaN   NaN  154.06825  84.015596   \n",
              "songs_played_per_day   8000.0    NaN      NaN   NaN   50.12725  28.449762   \n",
              "skip_rate              8000.0    NaN      NaN   NaN   0.300127   0.173594   \n",
              "device_type              8000      3  Desktop  2778        NaN        NaN   \n",
              "ads_listened_per_week  8000.0    NaN      NaN   NaN   6.943875  13.617953   \n",
              "offline_listening      8000.0    NaN      NaN   NaN    0.74775   0.434331   \n",
              "is_churned             8000.0    NaN      NaN   NaN   0.258875   0.438044   \n",
              "\n",
              "                        min   25%    50%    75%    max  \n",
              "gender                  NaN   NaN    NaN    NaN    NaN  \n",
              "age                    16.0  26.0   38.0   49.0   59.0  \n",
              "country                 NaN   NaN    NaN    NaN    NaN  \n",
              "subscription_type       NaN   NaN    NaN    NaN    NaN  \n",
              "listening_time         10.0  81.0  154.0  227.0  299.0  \n",
              "songs_played_per_day    1.0  25.0   50.0   75.0   99.0  \n",
              "skip_rate               0.0  0.15    0.3   0.45    0.6  \n",
              "device_type             NaN   NaN    NaN    NaN    NaN  \n",
              "ads_listened_per_week   0.0   0.0    0.0    5.0   49.0  \n",
              "offline_listening       0.0   0.0    1.0    1.0    1.0  \n",
              "is_churned              0.0   0.0    0.0    1.0    1.0  "
            ],
            "text/html": [
              "\n",
              "  <div id=\"df-6f73a608-2447-433d-9fa9-269dd176eb6f\" class=\"colab-df-container\">\n",
              "    <div>\n",
              "<style scoped>\n",
              "    .dataframe tbody tr th:only-of-type {\n",
              "        vertical-align: middle;\n",
              "    }\n",
              "\n",
              "    .dataframe tbody tr th {\n",
              "        vertical-align: top;\n",
              "    }\n",
              "\n",
              "    .dataframe thead th {\n",
              "        text-align: right;\n",
              "    }\n",
              "</style>\n",
              "<table border=\"1\" class=\"dataframe\">\n",
              "  <thead>\n",
              "    <tr style=\"text-align: right;\">\n",
              "      <th></th>\n",
              "      <th>count</th>\n",
              "      <th>unique</th>\n",
              "      <th>top</th>\n",
              "      <th>freq</th>\n",
              "      <th>mean</th>\n",
              "      <th>std</th>\n",
              "      <th>min</th>\n",
              "      <th>25%</th>\n",
              "      <th>50%</th>\n",
              "      <th>75%</th>\n",
              "      <th>max</th>\n",
              "    </tr>\n",
              "  </thead>\n",
              "  <tbody>\n",
              "    <tr>\n",
              "      <th>gender</th>\n",
              "      <td>8000</td>\n",
              "      <td>3</td>\n",
              "      <td>Male</td>\n",
              "      <td>2691</td>\n",
              "      <td>NaN</td>\n",
              "      <td>NaN</td>\n",
              "      <td>NaN</td>\n",
              "      <td>NaN</td>\n",
              "      <td>NaN</td>\n",
              "      <td>NaN</td>\n",
              "      <td>NaN</td>\n",
              "    </tr>\n",
              "    <tr>\n",
              "      <th>age</th>\n",
              "      <td>8000.0</td>\n",
              "      <td>NaN</td>\n",
              "      <td>NaN</td>\n",
              "      <td>NaN</td>\n",
              "      <td>37.662125</td>\n",
              "      <td>12.740359</td>\n",
              "      <td>16.0</td>\n",
              "      <td>26.0</td>\n",
              "      <td>38.0</td>\n",
              "      <td>49.0</td>\n",
              "      <td>59.0</td>\n",
              "    </tr>\n",
              "    <tr>\n",
              "      <th>country</th>\n",
              "      <td>8000</td>\n",
              "      <td>8</td>\n",
              "      <td>AU</td>\n",
              "      <td>1034</td>\n",
              "      <td>NaN</td>\n",
              "      <td>NaN</td>\n",
              "      <td>NaN</td>\n",
              "      <td>NaN</td>\n",
              "      <td>NaN</td>\n",
              "      <td>NaN</td>\n",
              "      <td>NaN</td>\n",
              "    </tr>\n",
              "    <tr>\n",
              "      <th>subscription_type</th>\n",
              "      <td>8000</td>\n",
              "      <td>4</td>\n",
              "      <td>Premium</td>\n",
              "      <td>2115</td>\n",
              "      <td>NaN</td>\n",
              "      <td>NaN</td>\n",
              "      <td>NaN</td>\n",
              "      <td>NaN</td>\n",
              "      <td>NaN</td>\n",
              "      <td>NaN</td>\n",
              "      <td>NaN</td>\n",
              "    </tr>\n",
              "    <tr>\n",
              "      <th>listening_time</th>\n",
              "      <td>8000.0</td>\n",
              "      <td>NaN</td>\n",
              "      <td>NaN</td>\n",
              "      <td>NaN</td>\n",
              "      <td>154.06825</td>\n",
              "      <td>84.015596</td>\n",
              "      <td>10.0</td>\n",
              "      <td>81.0</td>\n",
              "      <td>154.0</td>\n",
              "      <td>227.0</td>\n",
              "      <td>299.0</td>\n",
              "    </tr>\n",
              "    <tr>\n",
              "      <th>songs_played_per_day</th>\n",
              "      <td>8000.0</td>\n",
              "      <td>NaN</td>\n",
              "      <td>NaN</td>\n",
              "      <td>NaN</td>\n",
              "      <td>50.12725</td>\n",
              "      <td>28.449762</td>\n",
              "      <td>1.0</td>\n",
              "      <td>25.0</td>\n",
              "      <td>50.0</td>\n",
              "      <td>75.0</td>\n",
              "      <td>99.0</td>\n",
              "    </tr>\n",
              "    <tr>\n",
              "      <th>skip_rate</th>\n",
              "      <td>8000.0</td>\n",
              "      <td>NaN</td>\n",
              "      <td>NaN</td>\n",
              "      <td>NaN</td>\n",
              "      <td>0.300127</td>\n",
              "      <td>0.173594</td>\n",
              "      <td>0.0</td>\n",
              "      <td>0.15</td>\n",
              "      <td>0.3</td>\n",
              "      <td>0.45</td>\n",
              "      <td>0.6</td>\n",
              "    </tr>\n",
              "    <tr>\n",
              "      <th>device_type</th>\n",
              "      <td>8000</td>\n",
              "      <td>3</td>\n",
              "      <td>Desktop</td>\n",
              "      <td>2778</td>\n",
              "      <td>NaN</td>\n",
              "      <td>NaN</td>\n",
              "      <td>NaN</td>\n",
              "      <td>NaN</td>\n",
              "      <td>NaN</td>\n",
              "      <td>NaN</td>\n",
              "      <td>NaN</td>\n",
              "    </tr>\n",
              "    <tr>\n",
              "      <th>ads_listened_per_week</th>\n",
              "      <td>8000.0</td>\n",
              "      <td>NaN</td>\n",
              "      <td>NaN</td>\n",
              "      <td>NaN</td>\n",
              "      <td>6.943875</td>\n",
              "      <td>13.617953</td>\n",
              "      <td>0.0</td>\n",
              "      <td>0.0</td>\n",
              "      <td>0.0</td>\n",
              "      <td>5.0</td>\n",
              "      <td>49.0</td>\n",
              "    </tr>\n",
              "    <tr>\n",
              "      <th>offline_listening</th>\n",
              "      <td>8000.0</td>\n",
              "      <td>NaN</td>\n",
              "      <td>NaN</td>\n",
              "      <td>NaN</td>\n",
              "      <td>0.74775</td>\n",
              "      <td>0.434331</td>\n",
              "      <td>0.0</td>\n",
              "      <td>0.0</td>\n",
              "      <td>1.0</td>\n",
              "      <td>1.0</td>\n",
              "      <td>1.0</td>\n",
              "    </tr>\n",
              "    <tr>\n",
              "      <th>is_churned</th>\n",
              "      <td>8000.0</td>\n",
              "      <td>NaN</td>\n",
              "      <td>NaN</td>\n",
              "      <td>NaN</td>\n",
              "      <td>0.258875</td>\n",
              "      <td>0.438044</td>\n",
              "      <td>0.0</td>\n",
              "      <td>0.0</td>\n",
              "      <td>0.0</td>\n",
              "      <td>1.0</td>\n",
              "      <td>1.0</td>\n",
              "    </tr>\n",
              "  </tbody>\n",
              "</table>\n",
              "</div>\n",
              "    <div class=\"colab-df-buttons\">\n",
              "\n",
              "  <div class=\"colab-df-container\">\n",
              "    <button class=\"colab-df-convert\" onclick=\"convertToInteractive('df-6f73a608-2447-433d-9fa9-269dd176eb6f')\"\n",
              "            title=\"Convert this dataframe to an interactive table.\"\n",
              "            style=\"display:none;\">\n",
              "\n",
              "  <svg xmlns=\"http://www.w3.org/2000/svg\" height=\"24px\" viewBox=\"0 -960 960 960\">\n",
              "    <path d=\"M120-120v-720h720v720H120Zm60-500h600v-160H180v160Zm220 220h160v-160H400v160Zm0 220h160v-160H400v160ZM180-400h160v-160H180v160Zm440 0h160v-160H620v160ZM180-180h160v-160H180v160Zm440 0h160v-160H620v160Z\"/>\n",
              "  </svg>\n",
              "    </button>\n",
              "\n",
              "  <style>\n",
              "    .colab-df-container {\n",
              "      display:flex;\n",
              "      gap: 12px;\n",
              "    }\n",
              "\n",
              "    .colab-df-convert {\n",
              "      background-color: #E8F0FE;\n",
              "      border: none;\n",
              "      border-radius: 50%;\n",
              "      cursor: pointer;\n",
              "      display: none;\n",
              "      fill: #1967D2;\n",
              "      height: 32px;\n",
              "      padding: 0 0 0 0;\n",
              "      width: 32px;\n",
              "    }\n",
              "\n",
              "    .colab-df-convert:hover {\n",
              "      background-color: #E2EBFA;\n",
              "      box-shadow: 0px 1px 2px rgba(60, 64, 67, 0.3), 0px 1px 3px 1px rgba(60, 64, 67, 0.15);\n",
              "      fill: #174EA6;\n",
              "    }\n",
              "\n",
              "    .colab-df-buttons div {\n",
              "      margin-bottom: 4px;\n",
              "    }\n",
              "\n",
              "    [theme=dark] .colab-df-convert {\n",
              "      background-color: #3B4455;\n",
              "      fill: #D2E3FC;\n",
              "    }\n",
              "\n",
              "    [theme=dark] .colab-df-convert:hover {\n",
              "      background-color: #434B5C;\n",
              "      box-shadow: 0px 1px 3px 1px rgba(0, 0, 0, 0.15);\n",
              "      filter: drop-shadow(0px 1px 2px rgba(0, 0, 0, 0.3));\n",
              "      fill: #FFFFFF;\n",
              "    }\n",
              "  </style>\n",
              "\n",
              "    <script>\n",
              "      const buttonEl =\n",
              "        document.querySelector('#df-6f73a608-2447-433d-9fa9-269dd176eb6f button.colab-df-convert');\n",
              "      buttonEl.style.display =\n",
              "        google.colab.kernel.accessAllowed ? 'block' : 'none';\n",
              "\n",
              "      async function convertToInteractive(key) {\n",
              "        const element = document.querySelector('#df-6f73a608-2447-433d-9fa9-269dd176eb6f');\n",
              "        const dataTable =\n",
              "          await google.colab.kernel.invokeFunction('convertToInteractive',\n",
              "                                                    [key], {});\n",
              "        if (!dataTable) return;\n",
              "\n",
              "        const docLinkHtml = 'Like what you see? Visit the ' +\n",
              "          '<a target=\"_blank\" href=https://colab.research.google.com/notebooks/data_table.ipynb>data table notebook</a>'\n",
              "          + ' to learn more about interactive tables.';\n",
              "        element.innerHTML = '';\n",
              "        dataTable['output_type'] = 'display_data';\n",
              "        await google.colab.output.renderOutput(dataTable, element);\n",
              "        const docLink = document.createElement('div');\n",
              "        docLink.innerHTML = docLinkHtml;\n",
              "        element.appendChild(docLink);\n",
              "      }\n",
              "    </script>\n",
              "  </div>\n",
              "\n",
              "\n",
              "    <div id=\"df-a32a1e8f-5d3e-4636-8018-f3134f807f52\">\n",
              "      <button class=\"colab-df-quickchart\" onclick=\"quickchart('df-a32a1e8f-5d3e-4636-8018-f3134f807f52')\"\n",
              "                title=\"Suggest charts\"\n",
              "                style=\"display:none;\">\n",
              "\n",
              "<svg xmlns=\"http://www.w3.org/2000/svg\" height=\"24px\"viewBox=\"0 0 24 24\"\n",
              "     width=\"24px\">\n",
              "    <g>\n",
              "        <path d=\"M19 3H5c-1.1 0-2 .9-2 2v14c0 1.1.9 2 2 2h14c1.1 0 2-.9 2-2V5c0-1.1-.9-2-2-2zM9 17H7v-7h2v7zm4 0h-2V7h2v10zm4 0h-2v-4h2v4z\"/>\n",
              "    </g>\n",
              "</svg>\n",
              "      </button>\n",
              "\n",
              "<style>\n",
              "  .colab-df-quickchart {\n",
              "      --bg-color: #E8F0FE;\n",
              "      --fill-color: #1967D2;\n",
              "      --hover-bg-color: #E2EBFA;\n",
              "      --hover-fill-color: #174EA6;\n",
              "      --disabled-fill-color: #AAA;\n",
              "      --disabled-bg-color: #DDD;\n",
              "  }\n",
              "\n",
              "  [theme=dark] .colab-df-quickchart {\n",
              "      --bg-color: #3B4455;\n",
              "      --fill-color: #D2E3FC;\n",
              "      --hover-bg-color: #434B5C;\n",
              "      --hover-fill-color: #FFFFFF;\n",
              "      --disabled-bg-color: #3B4455;\n",
              "      --disabled-fill-color: #666;\n",
              "  }\n",
              "\n",
              "  .colab-df-quickchart {\n",
              "    background-color: var(--bg-color);\n",
              "    border: none;\n",
              "    border-radius: 50%;\n",
              "    cursor: pointer;\n",
              "    display: none;\n",
              "    fill: var(--fill-color);\n",
              "    height: 32px;\n",
              "    padding: 0;\n",
              "    width: 32px;\n",
              "  }\n",
              "\n",
              "  .colab-df-quickchart:hover {\n",
              "    background-color: var(--hover-bg-color);\n",
              "    box-shadow: 0 1px 2px rgba(60, 64, 67, 0.3), 0 1px 3px 1px rgba(60, 64, 67, 0.15);\n",
              "    fill: var(--button-hover-fill-color);\n",
              "  }\n",
              "\n",
              "  .colab-df-quickchart-complete:disabled,\n",
              "  .colab-df-quickchart-complete:disabled:hover {\n",
              "    background-color: var(--disabled-bg-color);\n",
              "    fill: var(--disabled-fill-color);\n",
              "    box-shadow: none;\n",
              "  }\n",
              "\n",
              "  .colab-df-spinner {\n",
              "    border: 2px solid var(--fill-color);\n",
              "    border-color: transparent;\n",
              "    border-bottom-color: var(--fill-color);\n",
              "    animation:\n",
              "      spin 1s steps(1) infinite;\n",
              "  }\n",
              "\n",
              "  @keyframes spin {\n",
              "    0% {\n",
              "      border-color: transparent;\n",
              "      border-bottom-color: var(--fill-color);\n",
              "      border-left-color: var(--fill-color);\n",
              "    }\n",
              "    20% {\n",
              "      border-color: transparent;\n",
              "      border-left-color: var(--fill-color);\n",
              "      border-top-color: var(--fill-color);\n",
              "    }\n",
              "    30% {\n",
              "      border-color: transparent;\n",
              "      border-left-color: var(--fill-color);\n",
              "      border-top-color: var(--fill-color);\n",
              "      border-right-color: var(--fill-color);\n",
              "    }\n",
              "    40% {\n",
              "      border-color: transparent;\n",
              "      border-right-color: var(--fill-color);\n",
              "      border-top-color: var(--fill-color);\n",
              "    }\n",
              "    60% {\n",
              "      border-color: transparent;\n",
              "      border-right-color: var(--fill-color);\n",
              "    }\n",
              "    80% {\n",
              "      border-color: transparent;\n",
              "      border-right-color: var(--fill-color);\n",
              "      border-bottom-color: var(--fill-color);\n",
              "    }\n",
              "    90% {\n",
              "      border-color: transparent;\n",
              "      border-bottom-color: var(--fill-color);\n",
              "    }\n",
              "  }\n",
              "</style>\n",
              "\n",
              "      <script>\n",
              "        async function quickchart(key) {\n",
              "          const quickchartButtonEl =\n",
              "            document.querySelector('#' + key + ' button');\n",
              "          quickchartButtonEl.disabled = true;  // To prevent multiple clicks.\n",
              "          quickchartButtonEl.classList.add('colab-df-spinner');\n",
              "          try {\n",
              "            const charts = await google.colab.kernel.invokeFunction(\n",
              "                'suggestCharts', [key], {});\n",
              "          } catch (error) {\n",
              "            console.error('Error during call to suggestCharts:', error);\n",
              "          }\n",
              "          quickchartButtonEl.classList.remove('colab-df-spinner');\n",
              "          quickchartButtonEl.classList.add('colab-df-quickchart-complete');\n",
              "        }\n",
              "        (() => {\n",
              "          let quickchartButtonEl =\n",
              "            document.querySelector('#df-a32a1e8f-5d3e-4636-8018-f3134f807f52 button');\n",
              "          quickchartButtonEl.style.display =\n",
              "            google.colab.kernel.accessAllowed ? 'block' : 'none';\n",
              "        })();\n",
              "      </script>\n",
              "    </div>\n",
              "\n",
              "    </div>\n",
              "  </div>\n"
            ],
            "application/vnd.google.colaboratory.intrinsic+json": {
              "type": "dataframe",
              "summary": "{\n  \"name\": \"df\",\n  \"rows\": 11,\n  \"fields\": [\n    {\n      \"column\": \"count\",\n      \"properties\": {\n        \"dtype\": \"date\",\n        \"min\": \"8000\",\n        \"max\": \"8000\",\n        \"num_unique_values\": 1,\n        \"samples\": [\n          \"8000\"\n        ],\n        \"semantic_type\": \"\",\n        \"description\": \"\"\n      }\n    },\n    {\n      \"column\": \"unique\",\n      \"properties\": {\n        \"dtype\": \"date\",\n        \"min\": 3,\n        \"max\": 8,\n        \"num_unique_values\": 3,\n        \"samples\": [\n          3\n        ],\n        \"semantic_type\": \"\",\n        \"description\": \"\"\n      }\n    },\n    {\n      \"column\": \"top\",\n      \"properties\": {\n        \"dtype\": \"category\",\n        \"num_unique_values\": 4,\n        \"samples\": [\n          \"AU\"\n        ],\n        \"semantic_type\": \"\",\n        \"description\": \"\"\n      }\n    },\n    {\n      \"column\": \"freq\",\n      \"properties\": {\n        \"dtype\": \"date\",\n        \"min\": \"1034\",\n        \"max\": \"2778\",\n        \"num_unique_values\": 4,\n        \"samples\": [\n          \"1034\"\n        ],\n        \"semantic_type\": \"\",\n        \"description\": \"\"\n      }\n    },\n    {\n      \"column\": \"mean\",\n      \"properties\": {\n        \"dtype\": \"date\",\n        \"min\": 0.258875,\n        \"max\": 154.06825,\n        \"num_unique_values\": 7,\n        \"samples\": [\n          37.662125\n        ],\n        \"semantic_type\": \"\",\n        \"description\": \"\"\n      }\n    },\n    {\n      \"column\": \"std\",\n      \"properties\": {\n        \"dtype\": \"date\",\n        \"min\": 0.1735941404813284,\n        \"max\": 84.01559628717716,\n        \"num_unique_values\": 7,\n        \"samples\": [\n          12.740359299437353\n        ],\n        \"semantic_type\": \"\",\n        \"description\": \"\"\n      }\n    },\n    {\n      \"column\": \"min\",\n      \"properties\": {\n        \"dtype\": \"date\",\n        \"min\": 0.0,\n        \"max\": 16.0,\n        \"num_unique_values\": 4,\n        \"samples\": [\n          10.0\n        ],\n        \"semantic_type\": \"\",\n        \"description\": \"\"\n      }\n    },\n    {\n      \"column\": \"25%\",\n      \"properties\": {\n        \"dtype\": \"date\",\n        \"min\": 0.0,\n        \"max\": 81.0,\n        \"num_unique_values\": 5,\n        \"samples\": [\n          81.0\n        ],\n        \"semantic_type\": \"\",\n        \"description\": \"\"\n      }\n    },\n    {\n      \"column\": \"50%\",\n      \"properties\": {\n        \"dtype\": \"date\",\n        \"min\": 0.0,\n        \"max\": 154.0,\n        \"num_unique_values\": 6,\n        \"samples\": [\n          38.0\n        ],\n        \"semantic_type\": \"\",\n        \"description\": \"\"\n      }\n    },\n    {\n      \"column\": \"75%\",\n      \"properties\": {\n        \"dtype\": \"date\",\n        \"min\": 0.45,\n        \"max\": 227.0,\n        \"num_unique_values\": 6,\n        \"samples\": [\n          49.0\n        ],\n        \"semantic_type\": \"\",\n        \"description\": \"\"\n      }\n    },\n    {\n      \"column\": \"max\",\n      \"properties\": {\n        \"dtype\": \"date\",\n        \"min\": 0.6,\n        \"max\": 299.0,\n        \"num_unique_values\": 6,\n        \"samples\": [\n          59.0\n        ],\n        \"semantic_type\": \"\",\n        \"description\": \"\"\n      }\n    }\n  ]\n}"
            }
          },
          "metadata": {},
          "execution_count": 66
        }
      ]
    },
    {
      "cell_type": "markdown",
      "source": [
        "Summary of basic dataset information:\n",
        "1.   Gender, country, subscription_type, and device_type are categorical data type in the df.\n",
        "2.  is_churned was the outcome variable.\n",
        "3.   user_id was not needed, because it provided no meaningful information for analysis.\n",
        "4.   There were no missing values in the dataset.\n",
        "5.   user_id column was dropped, because it would not be needed in below processes,\n",
        "including EDA, preprocessing, and modeling.\n",
        "\n",
        "\n",
        "\n",
        "\n"
      ],
      "metadata": {
        "id": "zLqV74iLSxjf"
      }
    },
    {
      "cell_type": "markdown",
      "source": [
        "# EDA"
      ],
      "metadata": {
        "id": "NumR0r52VUjI"
      }
    },
    {
      "cell_type": "markdown",
      "source": [
        "## Distribution of numeric variables"
      ],
      "metadata": {
        "id": "TUb6fwftIxiI"
      }
    },
    {
      "cell_type": "markdown",
      "source": [
        "About 74% of Spotify users did not churn, while about 26% did churn, indicating class imbalance in the target variable"
      ],
      "metadata": {
        "id": "237g5ERJMIph"
      }
    },
    {
      "cell_type": "code",
      "source": [
        "# Distribution of numerical variables\n",
        "\n",
        "df.hist(figsize=(12, 4), bins=30, edgecolor='black', layout=(2, 4)) # Michelle\n",
        "plt.suptitle('Distribution of All Numerical Variables')\n",
        "plt.tight_layout()\n",
        "plt.show()"
      ],
      "metadata": {
        "id": "dF20fTis9ZFZ",
        "colab": {
          "base_uri": "https://localhost:8080/",
          "height": 391
        },
        "outputId": "a011eaee-0c34-4563-b2e3-1f6046821fc6"
      },
      "execution_count": null,
      "outputs": [
        {
          "output_type": "display_data",
          "data": {
            "text/plain": [
              "<Figure size 1200x400 with 8 Axes>"
            ],
            "image/png": "[encoded data removed]"
          },
          "metadata": {}
        }
      ]
    },
    {
      "cell_type": "markdown",
      "source": [
        "\n",
        "Michelle\n",
        "1.   Age, listening time, songs played per day, and skip rate spread fairly evenly accross their own range.\n",
        "2.   Ads listened per week is highly skewed toward zero.\n",
        "3.   Offline listening and is_churned are binary, concentrated at 0 and 1.\n",
        "\n"
      ],
      "metadata": {
        "id": "FTAHO3gBTBq9"
      }
    },
    {
      "cell_type": "markdown",
      "source": [
        "1. Age were evenly distributed among the users, besides four modes at age bins around 15, 30, 45, and 60, indicating there were a slightly more users concentrated in these bins.\n",
        "\n",
        "2. For listening_time, songs_played_per_day, and skip rate, they were pretty evenly distributed throughout their bins.\n",
        "\n",
        "3. ads_listened_per_week indicated most people listened to 0 - 5 ads per week.\n",
        "\n",
        "4. For offiline_listening, 3/4 of the users had used it, while 1/4 hadn't used it.  "
      ],
      "metadata": {
        "id": "9iv2MpQ6Qaky"
      }
    },
    {
      "cell_type": "markdown",
      "source": [
        "## Correlation matrix\n",
        "\n"
      ],
      "metadata": {
        "id": "FU8YjuuTd-DQ"
      }
    },
    {
      "cell_type": "code",
      "source": [
        "# Correlation heatmap for the numeric variables\n",
        "corr = df.corr(numeric_only=True)\n",
        "\n",
        "# Create a mask for the upper triangle, excluding the diagonal\n",
        "mask = np.triu(np.ones_like(corr, dtype=bool), k=1)\n",
        "\n",
        "# Set up the matplotlib figure\n",
        "plt.figure(figsize=(6, 4))\n",
        "\n",
        "# heatmap\n",
        "sns.heatmap(corr, mask=mask, cmap=\"coolwarm\", annot=True,\n",
        "            square=True, linewidths=0.5, annot_kws={\"size\": 6},\n",
        "            fmt=\".2f\", cbar_kws={\"shrink\": 0.75})\n",
        "\n",
        "plt.title(\"Triangle Heatmap of Correlations for Numeric Variables\")\n",
        "plt.show()"
      ],
      "metadata": {
        "id": "2Ane7qjdQOAC",
        "colab": {
          "base_uri": "https://localhost:8080/",
          "height": 537
        },
        "outputId": "ae0f81ae-1e1e-42dc-c375-9ea3030049e1"
      },
      "execution_count": null,
      "outputs": [
        {
          "output_type": "display_data",
          "data": {
            "text/plain": [
              "<Figure size 600x400 with 2 Axes>"
            ],
            "image/png": "[encoded data removed]"
          },
          "metadata": {}
        }
      ]
    },
    {
      "cell_type": "markdown",
      "source": [
        "Michelle:\n",
        "1. Most variables show very weak correlations with each other and with churn.\n",
        "2. The strongest relationship is a strong negative correlation (-0.88) between ads_listened_per_week and offline_listening, they capture opposite user behaviors(assuming users who listen offline are less exposed to ads.) ."
      ],
      "metadata": {
        "id": "w0fKYSLHTybC"
      }
    },
    {
      "cell_type": "markdown",
      "source": [
        "1. offline_listening and ads_listened_per_week had strong negative linear relationship with a correlation coefficient of -0.88, suggesting that users who listened offline would often listen to less ads per week. This makes sense, because ads probably not be able to be played offline in Spotify.\n",
        "\n",
        "2. There were no other obvious linear relationships between the other numeric variables, because their r's were around 0.\n",
        "\n"
      ],
      "metadata": {
        "id": "3FJfwZlYagqD"
      }
    },
    {
      "cell_type": "markdown",
      "source": [
        "## Distribution of categorical variables"
      ],
      "metadata": {
        "id": "CI3l3ukmeHrb"
      }
    },
    {
      "cell_type": "code",
      "source": [
        "# Count plots for the categorical variables\n",
        "\n",
        "plt.figure(figsize=(12, 8))\n",
        "\n",
        "categorical_columns = ['gender', 'country', 'subscription_type', 'device_type']\n",
        "\n",
        "for i, col in enumerate(categorical_columns, 1):\n",
        "    plt.subplot(2, 2, i)\n",
        "    sns.countplot(x=col, data=df, hue=col, palette='viridis', legend=False)\n",
        "    plt.title(f'Distribution of {col}')\n",
        "    plt.xticks(rotation=45, ha='right')\n",
        "\n",
        "plt.tight_layout()\n",
        "plt.show()"
      ],
      "metadata": {
        "id": "NL5TtOsNdSg2",
        "colab": {
          "base_uri": "https://localhost:8080/",
          "height": 762
        },
        "outputId": "01870cfb-93c0-4635-d881-9a6e2d1f0e1e"
      },
      "execution_count": null,
      "outputs": [
        {
          "output_type": "display_data",
          "data": {
            "text/plain": [
              "<Figure size 1200x800 with 4 Axes>"
            ],
            "image/png": "[encoded data removed]"
          },
          "metadata": {}
        }
      ]
    },
    {
      "cell_type": "markdown",
      "source": [
        "The number in each categories of gender, country, subscription_type, and device_type were mostly evenly distributed.\n",
        "\n",
        "Most users were males.\n",
        "\n",
        "Most users were from Australia.\n",
        "\n",
        "Most users had a premium subscription.\n",
        "\n",
        "Most users used destop to listen to Spotify."
      ],
      "metadata": {
        "id": "TMBtYzW-h8kh"
      }
    },
    {
      "cell_type": "markdown",
      "source": [
        "## Count plot is_churned vs non churn"
      ],
      "metadata": {
        "id": "9b6MNf19ebX-"
      }
    },
    {
      "cell_type": "code",
      "metadata": {
        "id": "8beca1ed",
        "colab": {
          "base_uri": "https://localhost:8080/",
          "height": 573
        },
        "outputId": "c0705331-3ca5-4603-d7fa-aca6415ced67"
      },
      "source": [
        "# Count plots for categorical variables vs is_churned\n",
        "\n",
        "categorical_columns_vs_churn = ['gender', 'country', 'subscription_type', 'device_type', ]\n",
        "\n",
        "plt.figure(figsize=(12, 6))\n",
        "\n",
        "for i, col in enumerate(categorical_columns_vs_churn, 1):\n",
        "    plt.subplot(2, 2, i)\n",
        "    sns.countplot(x=col, data=df, hue='is_churned', palette='viridis')\n",
        "    plt.title(f'Churn Rate by {col}')\n",
        "    plt.legend(loc=\"center left\", bbox_to_anchor=(1.05, 0.5)) # Michelle\n",
        "    plt.xticks(rotation=45, ha='right')\n",
        "\n",
        "plt.tight_layout()\n",
        "plt.show()"
      ],
      "execution_count": null,
      "outputs": [
        {
          "output_type": "display_data",
          "data": {
            "text/plain": [
              "<Figure size 1200x600 with 4 Axes>"
            ],
            "image/png": "[encoded data removed]"
          },
          "metadata": {}
        }
      ]
    },
    {
      "cell_type": "markdown",
      "source": [
        "The churn rates were similar among the categories of gender, country, subscription_type, and device_type.\n",
        "\n",
        "For example:\n",
        "\n",
        "1/4 of the male users churned.\n",
        "\n",
        "1/4 of the Australian users churned.\n",
        "\n",
        "1/4 of the premium users churned.\n",
        "\n",
        "1/4 of the desktop users churned."
      ],
      "metadata": {
        "id": "dtR69V6RovG6"
      }
    },
    {
      "cell_type": "markdown",
      "source": [
        "## Box plot of is_churn vs non churn"
      ],
      "metadata": {
        "id": "go6-NJVseooF"
      }
    },
    {
      "cell_type": "code",
      "source": [
        "# Box plots of numeric variables vs churn\n",
        "\n",
        "numeric_columns = df.select_dtypes(include=np.number).drop(columns=['is_churned'])\n",
        "\n",
        "# Calculate the number of rows and columns needed for subplots\n",
        "n_cols = 3\n",
        "n_rows = (len(numeric_columns.columns) + n_cols - 1) // n_cols\n",
        "\n",
        "plt.figure(figsize=(8, 6))\n",
        "\n",
        "for i, col in enumerate(numeric_columns.columns, 1):\n",
        "    plt.subplot(n_rows, n_cols, i)\n",
        "    sns.boxplot(x='is_churned', y=col, data=df, hue='is_churned', palette='viridis', legend=False)\n",
        "    plt.title(f'{col} vs Churn')\n",
        "\n",
        "plt.tight_layout()\n",
        "plt.show()"
      ],
      "metadata": {
        "id": "2L8XuEImpsSs",
        "colab": {
          "base_uri": "https://localhost:8080/",
          "height": 607
        },
        "outputId": "5d98a618-3f38-4894-c9fd-72c764816d82"
      },
      "execution_count": null,
      "outputs": [
        {
          "output_type": "display_data",
          "data": {
            "text/plain": [
              "<Figure size 800x600 with 6 Axes>"
            ],
            "image/png": "[encoded data removed]"
          },
          "metadata": {}
        }
      ]
    },
    {
      "cell_type": "markdown",
      "source": [
        "Michelle:\n",
        "1.   Most Spotify users are between **25 and 50 years old**.\n",
        "2.   On average, users spend about **80 to 230 minutes listening per day**.\n",
        "3.   Most users play **20 to 75 songs per day**.\n",
        "4.   The **average skip rate is around 0.3** for both churned and non-churned users.\n",
        "5.   Churned users tend to avoid ads, while non-churned users usually accept fewer **than 5 ads per week**."
      ],
      "metadata": {
        "id": "75Zerr8PW0ID"
      }
    },
    {
      "cell_type": "markdown",
      "source": [
        "The range of age churned was similar to the unchurned, indicating no particular range of age stood out in the churned users.  \n",
        "\n",
        "The range of listening_time churned was similar to the unchurned, indicating no particular range of listening_time stood out in the churned users.\n",
        "\n",
        "The range of song_play_per_day churned was similar to the unchurned, indicating no particular range of song_play_per_day stood out in the churned users.\n",
        "\n",
        "The range of skip_rate churned was similar to the unchurned, indicating no particular range of skip_rate stood out in the churned users.\n",
        "\n",
        "ads_listened_per_week vs Churn needed a further breaking down in bins and visualization, because there were many outliers.\n",
        "\n",
        "offline_listending vs Churn also needed a better visualization, because they were both categorical variable in nature. The boxplot did not provided a justifiable comparison."
      ],
      "metadata": {
        "id": "gWGdgyWvVCGP"
      }
    },
    {
      "cell_type": "markdown",
      "source": [
        "## Binning 'ads_listened_per_week'"
      ],
      "metadata": {
        "id": "BHK2kgJDe--V"
      }
    },
    {
      "cell_type": "code",
      "metadata": {
        "id": "ae8d7a7d",
        "colab": {
          "base_uri": "https://localhost:8080/"
        },
        "outputId": "7af49b33-28c0-4a94-f9d9-e097053a194b"
      },
      "source": [
        "# Define bin edges and labels\n",
        "bins = [0, 5, 10, 15, 20, 25, 30, 35, 40, 45, 50]\n",
        "labels = ['0-5', '6-10', '11-15', '16-20', '21-25', '26-30', '31-35', '36-40', '41-45', '46-50']\n",
        "\n",
        "# Use pd.cut to create the binned column\n",
        "df['ads_listened_per_week_binned'] = pd.cut(df['ads_listened_per_week'],\n",
        "                                            bins=bins,\n",
        "                                            labels=labels,\n",
        "                                            right=False,\n",
        "                                            include_lowest=True\n",
        "                                            )\n",
        "\n",
        "# Display the distribution of the new binned column\n",
        "print(df['ads_listened_per_week_binned'].value_counts().sort_index())"
      ],
      "execution_count": 84,
      "outputs": [
        {
          "output_type": "stream",
          "name": "stdout",
          "text": [
            "ads_listened_per_week_binned\n",
            "0-5      5982\n",
            "6-10      204\n",
            "11-15     222\n",
            "16-20     234\n",
            "21-25     198\n",
            "26-30     217\n",
            "31-35     222\n",
            "36-40     245\n",
            "41-45     243\n",
            "46-50     233\n",
            "Name: count, dtype: int64\n"
          ]
        }
      ]
    },
    {
      "cell_type": "code",
      "metadata": {
        "id": "7e34229b",
        "colab": {
          "base_uri": "https://localhost:8080/",
          "height": 407
        },
        "outputId": "60eb8b95-0d39-4c37-924f-6285a14f59dc"
      },
      "source": [
        "# Count plot of binned 'ads_listened_per_week' vs Churn\n",
        "\n",
        "plt.figure(figsize=(6, 4))\n",
        "sns.countplot(x='ads_listened_per_week_binned',\n",
        "              data=df,\n",
        "              hue='is_churned',\n",
        "              palette='viridis'\n",
        "              )\n",
        "plt.title('Churn Rate by Binned Ads Listened Per Week')\n",
        "plt.xlabel('Ads Listened Per Week (Binned)')\n",
        "plt.xticks(rotation=45, ha='right')\n",
        "plt.legend(title='Is Churned')\n",
        "plt.tight_layout()\n",
        "plt.show()"
      ],
      "execution_count": null,
      "outputs": [
        {
          "output_type": "display_data",
          "data": {
            "text/plain": [
              "<Figure size 600x400 with 1 Axes>"
            ],
            "image/png": "[encoded data removed]"
          },
          "metadata": {}
        }
      ]
    },
    {
      "cell_type": "markdown",
      "source": [
        "Michelle:\n",
        "\n",
        "\n",
        "1.  The majority of users listen to **0–5 ads** per week, and this group includes most churned users.\n",
        "2.  As the number of ads listened per week increases, the overall user count drops sharply.\n",
        "3.  Churn remains more concentrated among users exposed to fewer ads, while higher ad counts are associated with fewer users overall.\n",
        "\n"
      ],
      "metadata": {
        "id": "JWuAVVCXZ4li"
      }
    },
    {
      "cell_type": "markdown",
      "source": [
        "Most of the users listened to 0-5 ads per week, but the proportions of churned users were similar across different bins of the ads_listen_per_week.\n",
        "\n",
        "1/4 of users in each bins churned, indicating churning happened consistently in the similar proportion across different ranges of the ads_listen_per_week.   "
      ],
      "metadata": {
        "id": "Gv2aSoxfZ3k1"
      }
    },
    {
      "cell_type": "code",
      "source": [
        "# offline_listening vs Churn\n",
        "\n",
        "plt.figure(figsize=(6, 4))\n",
        "sns.countplot(x='offline_listening', data=df, hue='is_churned', palette='viridis')\n",
        "plt.title('Churn Rate by Offline Listening Status')\n",
        "plt.show()"
      ],
      "metadata": {
        "id": "2s6sd96Vr2Xl",
        "colab": {
          "base_uri": "https://localhost:8080/",
          "height": 410
        },
        "outputId": "7a54d1cf-e7a2-44e8-da64-6d7f554a33c7"
      },
      "execution_count": null,
      "outputs": [
        {
          "output_type": "display_data",
          "data": {
            "text/plain": [
              "<Figure size 600x400 with 1 Axes>"
            ],
            "image/png": "[encoded data removed]"
          },
          "metadata": {}
        }
      ]
    },
    {
      "cell_type": "code",
      "source": [
        "# Distribution of the target variable\n",
        "print(df['is_churned'].value_counts(normalize=True))\n",
        "\n",
        "plt.figure(figsize=(4, 2)) # Michelle\n",
        "sns.countplot(x='is_churned', data=df, hue='is_churned', palette='viridis', legend=False)\n",
        "plt.title('Distribution of Target Variable')\n",
        "plt.show()"
      ],
      "metadata": {
        "id": "bEMHYsmO7gDl",
        "colab": {
          "base_uri": "https://localhost:8080/",
          "height": 325
        },
        "outputId": "f24a16fa-182e-466c-9833-33ffe943290c"
      },
      "execution_count": null,
      "outputs": [
        {
          "output_type": "stream",
          "name": "stdout",
          "text": [
            "is_churned\n",
            "0    0.741125\n",
            "1    0.258875\n",
            "Name: proportion, dtype: float64\n"
          ]
        },
        {
          "output_type": "display_data",
          "data": {
            "text/plain": [
              "<Figure size 400x200 with 1 Axes>"
            ],
            "image/png": "[encoded data removed]"
          },
          "metadata": {}
        }
      ]
    },
    {
      "cell_type": "markdown",
      "source": [
        "Michelle:\n",
        "\n",
        "The outcome variable shows class imbalance, with about 6,000 non-churned users compared to 2,000 churned users."
      ],
      "metadata": {
        "id": "eyxhk1UpbVOr"
      }
    },
    {
      "cell_type": "markdown",
      "source": [
        "Churn rates were similar despite whether the users used the offline_listening function or not."
      ],
      "metadata": {
        "id": "hAoONrH2syMI"
      }
    },
    {
      "cell_type": "markdown",
      "source": [
        "# Feature Engineering"
      ],
      "metadata": {
        "id": "j3uX89TiVjeG"
      }
    },
    {
      "cell_type": "code",
      "source": [
        "df.head()"
      ],
      "metadata": {
        "colab": {
          "base_uri": "https://localhost:8080/",
          "height": 226
        },
        "id": "NTzOInBsbg_R",
        "outputId": "c29f9a36-4bc2-48e2-9b75-ea6c1cbd567e"
      },
      "execution_count": null,
      "outputs": [
        {
          "output_type": "execute_result",
          "data": {
            "text/plain": [
              "   gender  age country subscription_type  listening_time  \\\n",
              "0  Female   54      CA              Free              26   \n",
              "1   Other   33      DE            Family             141   \n",
              "2    Male   38      AU           Premium             199   \n",
              "3  Female   22      CA           Student              36   \n",
              "4   Other   29      US            Family             250   \n",
              "\n",
              "   songs_played_per_day  skip_rate device_type  ads_listened_per_week  \\\n",
              "0                    23       0.20     Desktop                     31   \n",
              "1                    62       0.34         Web                      0   \n",
              "2                    38       0.04      Mobile                      0   \n",
              "3                     2       0.31      Mobile                      0   \n",
              "4                    57       0.36      Mobile                      0   \n",
              "\n",
              "   offline_listening  is_churned ads_listened_per_week_binned  \n",
              "0                  0           1                        31-35  \n",
              "1                  1           0                          0-5  \n",
              "2                  1           1                          0-5  \n",
              "3                  1           0                          0-5  \n",
              "4                  1           1                          0-5  "
            ],
            "text/html": [
              "\n",
              "  <div id=\"df-aa98e6b0-b861-4a4b-9227-4ff75f6a6aeb\" class=\"colab-df-container\">\n",
              "    <div>\n",
              "<style scoped>\n",
              "    .dataframe tbody tr th:only-of-type {\n",
              "        vertical-align: middle;\n",
              "    }\n",
              "\n",
              "    .dataframe tbody tr th {\n",
              "        vertical-align: top;\n",
              "    }\n",
              "\n",
              "    .dataframe thead th {\n",
              "        text-align: right;\n",
              "    }\n",
              "</style>\n",
              "<table border=\"1\" class=\"dataframe\">\n",
              "  <thead>\n",
              "    <tr style=\"text-align: right;\">\n",
              "      <th></th>\n",
              "      <th>gender</th>\n",
              "      <th>age</th>\n",
              "      <th>country</th>\n",
              "      <th>subscription_type</th>\n",
              "      <th>listening_time</th>\n",
              "      <th>songs_played_per_day</th>\n",
              "      <th>skip_rate</th>\n",
              "      <th>device_type</th>\n",
              "      <th>ads_listened_per_week</th>\n",
              "      <th>offline_listening</th>\n",
              "      <th>is_churned</th>\n",
              "      <th>ads_listened_per_week_binned</th>\n",
              "    </tr>\n",
              "  </thead>\n",
              "  <tbody>\n",
              "    <tr>\n",
              "      <th>0</th>\n",
              "      <td>Female</td>\n",
              "      <td>54</td>\n",
              "      <td>CA</td>\n",
              "      <td>Free</td>\n",
              "      <td>26</td>\n",
              "      <td>23</td>\n",
              "      <td>0.20</td>\n",
              "      <td>Desktop</td>\n",
              "      <td>31</td>\n",
              "      <td>0</td>\n",
              "      <td>1</td>\n",
              "      <td>31-35</td>\n",
              "    </tr>\n",
              "    <tr>\n",
              "      <th>1</th>\n",
              "      <td>Other</td>\n",
              "      <td>33</td>\n",
              "      <td>DE</td>\n",
              "      <td>Family</td>\n",
              "      <td>141</td>\n",
              "      <td>62</td>\n",
              "      <td>0.34</td>\n",
              "      <td>Web</td>\n",
              "      <td>0</td>\n",
              "      <td>1</td>\n",
              "      <td>0</td>\n",
              "      <td>0-5</td>\n",
              "    </tr>\n",
              "    <tr>\n",
              "      <th>2</th>\n",
              "      <td>Male</td>\n",
              "      <td>38</td>\n",
              "      <td>AU</td>\n",
              "      <td>Premium</td>\n",
              "      <td>199</td>\n",
              "      <td>38</td>\n",
              "      <td>0.04</td>\n",
              "      <td>Mobile</td>\n",
              "      <td>0</td>\n",
              "      <td>1</td>\n",
              "      <td>1</td>\n",
              "      <td>0-5</td>\n",
              "    </tr>\n",
              "    <tr>\n",
              "      <th>3</th>\n",
              "      <td>Female</td>\n",
              "      <td>22</td>\n",
              "      <td>CA</td>\n",
              "      <td>Student</td>\n",
              "      <td>36</td>\n",
              "      <td>2</td>\n",
              "      <td>0.31</td>\n",
              "      <td>Mobile</td>\n",
              "      <td>0</td>\n",
              "      <td>1</td>\n",
              "      <td>0</td>\n",
              "      <td>0-5</td>\n",
              "    </tr>\n",
              "    <tr>\n",
              "      <th>4</th>\n",
              "      <td>Other</td>\n",
              "      <td>29</td>\n",
              "      <td>US</td>\n",
              "      <td>Family</td>\n",
              "      <td>250</td>\n",
              "      <td>57</td>\n",
              "      <td>0.36</td>\n",
              "      <td>Mobile</td>\n",
              "      <td>0</td>\n",
              "      <td>1</td>\n",
              "      <td>1</td>\n",
              "      <td>0-5</td>\n",
              "    </tr>\n",
              "  </tbody>\n",
              "</table>\n",
              "</div>\n",
              "    <div class=\"colab-df-buttons\">\n",
              "\n",
              "  <div class=\"colab-df-container\">\n",
              "    <button class=\"colab-df-convert\" onclick=\"convertToInteractive('df-aa98e6b0-b861-4a4b-9227-4ff75f6a6aeb')\"\n",
              "            title=\"Convert this dataframe to an interactive table.\"\n",
              "            style=\"display:none;\">\n",
              "\n",
              "  <svg xmlns=\"http://www.w3.org/2000/svg\" height=\"24px\" viewBox=\"0 -960 960 960\">\n",
              "    <path d=\"M120-120v-720h720v720H120Zm60-500h600v-160H180v160Zm220 220h160v-160H400v160Zm0 220h160v-160H400v160ZM180-400h160v-160H180v160Zm440 0h160v-160H620v160ZM180-180h160v-160H180v160Zm440 0h160v-160H620v160Z\"/>\n",
              "  </svg>\n",
              "    </button>\n",
              "\n",
              "  <style>\n",
              "    .colab-df-container {\n",
              "      display:flex;\n",
              "      gap: 12px;\n",
              "    }\n",
              "\n",
              "    .colab-df-convert {\n",
              "      background-color: #E8F0FE;\n",
              "      border: none;\n",
              "      border-radius: 50%;\n",
              "      cursor: pointer;\n",
              "      display: none;\n",
              "      fill: #1967D2;\n",
              "      height: 32px;\n",
              "      padding: 0 0 0 0;\n",
              "      width: 32px;\n",
              "    }\n",
              "\n",
              "    .colab-df-convert:hover {\n",
              "      background-color: #E2EBFA;\n",
              "      box-shadow: 0px 1px 2px rgba(60, 64, 67, 0.3), 0px 1px 3px 1px rgba(60, 64, 67, 0.15);\n",
              "      fill: #174EA6;\n",
              "    }\n",
              "\n",
              "    .colab-df-buttons div {\n",
              "      margin-bottom: 4px;\n",
              "    }\n",
              "\n",
              "    [theme=dark] .colab-df-convert {\n",
              "      background-color: #3B4455;\n",
              "      fill: #D2E3FC;\n",
              "    }\n",
              "\n",
              "    [theme=dark] .colab-df-convert:hover {\n",
              "      background-color: #434B5C;\n",
              "      box-shadow: 0px 1px 3px 1px rgba(0, 0, 0, 0.15);\n",
              "      filter: drop-shadow(0px 1px 2px rgba(0, 0, 0, 0.3));\n",
              "      fill: #FFFFFF;\n",
              "    }\n",
              "  </style>\n",
              "\n",
              "    <script>\n",
              "      const buttonEl =\n",
              "        document.querySelector('#df-aa98e6b0-b861-4a4b-9227-4ff75f6a6aeb button.colab-df-convert');\n",
              "      buttonEl.style.display =\n",
              "        google.colab.kernel.accessAllowed ? 'block' : 'none';\n",
              "\n",
              "      async function convertToInteractive(key) {\n",
              "        const element = document.querySelector('#df-aa98e6b0-b861-4a4b-9227-4ff75f6a6aeb');\n",
              "        const dataTable =\n",
              "          await google.colab.kernel.invokeFunction('convertToInteractive',\n",
              "                                                    [key], {});\n",
              "        if (!dataTable) return;\n",
              "\n",
              "        const docLinkHtml = 'Like what you see? Visit the ' +\n",
              "          '<a target=\"_blank\" href=https://colab.research.google.com/notebooks/data_table.ipynb>data table notebook</a>'\n",
              "          + ' to learn more about interactive tables.';\n",
              "        element.innerHTML = '';\n",
              "        dataTable['output_type'] = 'display_data';\n",
              "        await google.colab.output.renderOutput(dataTable, element);\n",
              "        const docLink = document.createElement('div');\n",
              "        docLink.innerHTML = docLinkHtml;\n",
              "        element.appendChild(docLink);\n",
              "      }\n",
              "    </script>\n",
              "  </div>\n",
              "\n",
              "\n",
              "    <div id=\"df-d0765c9f-cd47-460a-9a54-ee2403a653ee\">\n",
              "      <button class=\"colab-df-quickchart\" onclick=\"quickchart('df-d0765c9f-cd47-460a-9a54-ee2403a653ee')\"\n",
              "                title=\"Suggest charts\"\n",
              "                style=\"display:none;\">\n",
              "\n",
              "<svg xmlns=\"http://www.w3.org/2000/svg\" height=\"24px\"viewBox=\"0 0 24 24\"\n",
              "     width=\"24px\">\n",
              "    <g>\n",
              "        <path d=\"M19 3H5c-1.1 0-2 .9-2 2v14c0 1.1.9 2 2 2h14c1.1 0 2-.9 2-2V5c0-1.1-.9-2-2-2zM9 17H7v-7h2v7zm4 0h-2V7h2v10zm4 0h-2v-4h2v4z\"/>\n",
              "    </g>\n",
              "</svg>\n",
              "      </button>\n",
              "\n",
              "<style>\n",
              "  .colab-df-quickchart {\n",
              "      --bg-color: #E8F0FE;\n",
              "      --fill-color: #1967D2;\n",
              "      --hover-bg-color: #E2EBFA;\n",
              "      --hover-fill-color: #174EA6;\n",
              "      --disabled-fill-color: #AAA;\n",
              "      --disabled-bg-color: #DDD;\n",
              "  }\n",
              "\n",
              "  [theme=dark] .colab-df-quickchart {\n",
              "      --bg-color: #3B4455;\n",
              "      --fill-color: #D2E3FC;\n",
              "      --hover-bg-color: #434B5C;\n",
              "      --hover-fill-color: #FFFFFF;\n",
              "      --disabled-bg-color: #3B4455;\n",
              "      --disabled-fill-color: #666;\n",
              "  }\n",
              "\n",
              "  .colab-df-quickchart {\n",
              "    background-color: var(--bg-color);\n",
              "    border: none;\n",
              "    border-radius: 50%;\n",
              "    cursor: pointer;\n",
              "    display: none;\n",
              "    fill: var(--fill-color);\n",
              "    height: 32px;\n",
              "    padding: 0;\n",
              "    width: 32px;\n",
              "  }\n",
              "\n",
              "  .colab-df-quickchart:hover {\n",
              "    background-color: var(--hover-bg-color);\n",
              "    box-shadow: 0 1px 2px rgba(60, 64, 67, 0.3), 0 1px 3px 1px rgba(60, 64, 67, 0.15);\n",
              "    fill: var(--button-hover-fill-color);\n",
              "  }\n",
              "\n",
              "  .colab-df-quickchart-complete:disabled,\n",
              "  .colab-df-quickchart-complete:disabled:hover {\n",
              "    background-color: var(--disabled-bg-color);\n",
              "    fill: var(--disabled-fill-color);\n",
              "    box-shadow: none;\n",
              "  }\n",
              "\n",
              "  .colab-df-spinner {\n",
              "    border: 2px solid var(--fill-color);\n",
              "    border-color: transparent;\n",
              "    border-bottom-color: var(--fill-color);\n",
              "    animation:\n",
              "      spin 1s steps(1) infinite;\n",
              "  }\n",
              "\n",
              "  @keyframes spin {\n",
              "    0% {\n",
              "      border-color: transparent;\n",
              "      border-bottom-color: var(--fill-color);\n",
              "      border-left-color: var(--fill-color);\n",
              "    }\n",
              "    20% {\n",
              "      border-color: transparent;\n",
              "      border-left-color: var(--fill-color);\n",
              "      border-top-color: var(--fill-color);\n",
              "    }\n",
              "    30% {\n",
              "      border-color: transparent;\n",
              "      border-left-color: var(--fill-color);\n",
              "      border-top-color: var(--fill-color);\n",
              "      border-right-color: var(--fill-color);\n",
              "    }\n",
              "    40% {\n",
              "      border-color: transparent;\n",
              "      border-right-color: var(--fill-color);\n",
              "      border-top-color: var(--fill-color);\n",
              "    }\n",
              "    60% {\n",
              "      border-color: transparent;\n",
              "      border-right-color: var(--fill-color);\n",
              "    }\n",
              "    80% {\n",
              "      border-color: transparent;\n",
              "      border-right-color: var(--fill-color);\n",
              "      border-bottom-color: var(--fill-color);\n",
              "    }\n",
              "    90% {\n",
              "      border-color: transparent;\n",
              "      border-bottom-color: var(--fill-color);\n",
              "    }\n",
              "  }\n",
              "</style>\n",
              "\n",
              "      <script>\n",
              "        async function quickchart(key) {\n",
              "          const quickchartButtonEl =\n",
              "            document.querySelector('#' + key + ' button');\n",
              "          quickchartButtonEl.disabled = true;  // To prevent multiple clicks.\n",
              "          quickchartButtonEl.classList.add('colab-df-spinner');\n",
              "          try {\n",
              "            const charts = await google.colab.kernel.invokeFunction(\n",
              "                'suggestCharts', [key], {});\n",
              "          } catch (error) {\n",
              "            console.error('Error during call to suggestCharts:', error);\n",
              "          }\n",
              "          quickchartButtonEl.classList.remove('colab-df-spinner');\n",
              "          quickchartButtonEl.classList.add('colab-df-quickchart-complete');\n",
              "        }\n",
              "        (() => {\n",
              "          let quickchartButtonEl =\n",
              "            document.querySelector('#df-d0765c9f-cd47-460a-9a54-ee2403a653ee button');\n",
              "          quickchartButtonEl.style.display =\n",
              "            google.colab.kernel.accessAllowed ? 'block' : 'none';\n",
              "        })();\n",
              "      </script>\n",
              "    </div>\n",
              "\n",
              "    </div>\n",
              "  </div>\n"
            ],
            "application/vnd.google.colaboratory.intrinsic+json": {
              "type": "dataframe",
              "variable_name": "df",
              "summary": "{\n  \"name\": \"df\",\n  \"rows\": 8000,\n  \"fields\": [\n    {\n      \"column\": \"gender\",\n      \"properties\": {\n        \"dtype\": \"category\",\n        \"num_unique_values\": 3,\n        \"samples\": [\n          \"Female\",\n          \"Other\",\n          \"Male\"\n        ],\n        \"semantic_type\": \"\",\n        \"description\": \"\"\n      }\n    },\n    {\n      \"column\": \"age\",\n      \"properties\": {\n        \"dtype\": \"number\",\n        \"std\": 12,\n        \"min\": 16,\n        \"max\": 59,\n        \"num_unique_values\": 44,\n        \"samples\": [\n          52,\n          42,\n          51\n        ],\n        \"semantic_type\": \"\",\n        \"description\": \"\"\n      }\n    },\n    {\n      \"column\": \"country\",\n      \"properties\": {\n        \"dtype\": \"category\",\n        \"num_unique_values\": 8,\n        \"samples\": [\n          \"DE\",\n          \"IN\",\n          \"CA\"\n        ],\n        \"semantic_type\": \"\",\n        \"description\": \"\"\n      }\n    },\n    {\n      \"column\": \"subscription_type\",\n      \"properties\": {\n        \"dtype\": \"category\",\n        \"num_unique_values\": 4,\n        \"samples\": [\n          \"Family\",\n          \"Student\",\n          \"Free\"\n        ],\n        \"semantic_type\": \"\",\n        \"description\": \"\"\n      }\n    },\n    {\n      \"column\": \"listening_time\",\n      \"properties\": {\n        \"dtype\": \"number\",\n        \"std\": 84,\n        \"min\": 10,\n        \"max\": 299,\n        \"num_unique_values\": 290,\n        \"samples\": [\n          215,\n          154,\n          124\n        ],\n        \"semantic_type\": \"\",\n        \"description\": \"\"\n      }\n    },\n    {\n      \"column\": \"songs_played_per_day\",\n      \"properties\": {\n        \"dtype\": \"number\",\n        \"std\": 28,\n        \"min\": 1,\n        \"max\": 99,\n        \"num_unique_values\": 99,\n        \"samples\": [\n          36,\n          3,\n          64\n        ],\n        \"semantic_type\": \"\",\n        \"description\": \"\"\n      }\n    },\n    {\n      \"column\": \"skip_rate\",\n      \"properties\": {\n        \"dtype\": \"number\",\n        \"std\": 0.1735941404813284,\n        \"min\": 0.0,\n        \"max\": 0.6,\n        \"num_unique_values\": 61,\n        \"samples\": [\n          0.2,\n          0.46,\n          0.37\n        ],\n        \"semantic_type\": \"\",\n        \"description\": \"\"\n      }\n    },\n    {\n      \"column\": \"device_type\",\n      \"properties\": {\n        \"dtype\": \"category\",\n        \"num_unique_values\": 3,\n        \"samples\": [\n          \"Desktop\",\n          \"Web\",\n          \"Mobile\"\n        ],\n        \"semantic_type\": \"\",\n        \"description\": \"\"\n      }\n    },\n    {\n      \"column\": \"ads_listened_per_week\",\n      \"properties\": {\n        \"dtype\": \"number\",\n        \"std\": 13,\n        \"min\": 0,\n        \"max\": 49,\n        \"num_unique_values\": 46,\n        \"samples\": [\n          41,\n          36,\n          27\n        ],\n        \"semantic_type\": \"\",\n        \"description\": \"\"\n      }\n    },\n    {\n      \"column\": \"offline_listening\",\n      \"properties\": {\n        \"dtype\": \"number\",\n        \"std\": 0,\n        \"min\": 0,\n        \"max\": 1,\n        \"num_unique_values\": 2,\n        \"samples\": [\n          1,\n          0\n        ],\n        \"semantic_type\": \"\",\n        \"description\": \"\"\n      }\n    },\n    {\n      \"column\": \"is_churned\",\n      \"properties\": {\n        \"dtype\": \"number\",\n        \"std\": 0,\n        \"min\": 0,\n        \"max\": 1,\n        \"num_unique_values\": 2,\n        \"samples\": [\n          0,\n          1\n        ],\n        \"semantic_type\": \"\",\n        \"description\": \"\"\n      }\n    },\n    {\n      \"column\": \"ads_listened_per_week_binned\",\n      \"properties\": {\n        \"dtype\": \"category\",\n        \"num_unique_values\": 10,\n        \"samples\": [\n          \"16-20\",\n          \"0-5\"\n        ],\n        \"semantic_type\": \"\",\n        \"description\": \"\"\n      }\n    }\n  ]\n}"
            }
          },
          "metadata": {},
          "execution_count": 76
        }
      ]
    },
    {
      "cell_type": "code",
      "source": [
        "# Drop ad_listened_per_week_binned -  it might not be useful in the modelling process.\n",
        "\n",
        "df = df.drop(columns=['ads_listened_per_week_binned'])\n"
      ],
      "metadata": {
        "id": "ZV4w4Aba9ZJk"
      },
      "execution_count": null,
      "outputs": []
    },
    {
      "cell_type": "code",
      "source": [
        "# Change categorical variable data type to categorical\n",
        "\n",
        "#df['offline_listening'] = df['offline_listening'].astype('category')\n",
        "df['offline_listening'].astype('category')"
      ],
      "metadata": {
        "id": "16Ia8-cRb8__",
        "colab": {
          "base_uri": "https://localhost:8080/",
          "height": 458
        },
        "outputId": "0100e509-2bf7-46a9-ab9a-fa87da361e3d"
      },
      "execution_count": null,
      "outputs": [
        {
          "output_type": "execute_result",
          "data": {
            "text/plain": [
              "0       0\n",
              "1       1\n",
              "2       1\n",
              "3       1\n",
              "4       1\n",
              "       ..\n",
              "7995    1\n",
              "7996    1\n",
              "7997    0\n",
              "7998    1\n",
              "7999    0\n",
              "Name: offline_listening, Length: 8000, dtype: category\n",
              "Categories (2, int64): [0, 1]"
            ],
            "text/html": [
              "<div>\n",
              "<style scoped>\n",
              "    .dataframe tbody tr th:only-of-type {\n",
              "        vertical-align: middle;\n",
              "    }\n",
              "\n",
              "    .dataframe tbody tr th {\n",
              "        vertical-align: top;\n",
              "    }\n",
              "\n",
              "    .dataframe thead th {\n",
              "        text-align: right;\n",
              "    }\n",
              "</style>\n",
              "<table border=\"1\" class=\"dataframe\">\n",
              "  <thead>\n",
              "    <tr style=\"text-align: right;\">\n",
              "      <th></th>\n",
              "      <th>offline_listening</th>\n",
              "    </tr>\n",
              "  </thead>\n",
              "  <tbody>\n",
              "    <tr>\n",
              "      <th>0</th>\n",
              "      <td>0</td>\n",
              "    </tr>\n",
              "    <tr>\n",
              "      <th>1</th>\n",
              "      <td>1</td>\n",
              "    </tr>\n",
              "    <tr>\n",
              "      <th>2</th>\n",
              "      <td>1</td>\n",
              "    </tr>\n",
              "    <tr>\n",
              "      <th>3</th>\n",
              "      <td>1</td>\n",
              "    </tr>\n",
              "    <tr>\n",
              "      <th>4</th>\n",
              "      <td>1</td>\n",
              "    </tr>\n",
              "    <tr>\n",
              "      <th>...</th>\n",
              "      <td>...</td>\n",
              "    </tr>\n",
              "    <tr>\n",
              "      <th>7995</th>\n",
              "      <td>1</td>\n",
              "    </tr>\n",
              "    <tr>\n",
              "      <th>7996</th>\n",
              "      <td>1</td>\n",
              "    </tr>\n",
              "    <tr>\n",
              "      <th>7997</th>\n",
              "      <td>0</td>\n",
              "    </tr>\n",
              "    <tr>\n",
              "      <th>7998</th>\n",
              "      <td>1</td>\n",
              "    </tr>\n",
              "    <tr>\n",
              "      <th>7999</th>\n",
              "      <td>0</td>\n",
              "    </tr>\n",
              "  </tbody>\n",
              "</table>\n",
              "<p>8000 rows × 1 columns</p>\n",
              "</div><br><label><b>dtype:</b> category</label>"
            ]
          },
          "metadata": {},
          "execution_count": 81
        }
      ]
    },
    {
      "cell_type": "code",
      "source": [
        "df.info()"
      ],
      "metadata": {
        "id": "aPyKUBVE6WNm",
        "colab": {
          "base_uri": "https://localhost:8080/"
        },
        "outputId": "c6a1fb54-8070-4744-e7c5-b17fd91755b6"
      },
      "execution_count": null,
      "outputs": [
        {
          "output_type": "stream",
          "name": "stdout",
          "text": [
            "<class 'pandas.core.frame.DataFrame'>\n",
            "RangeIndex: 8000 entries, 0 to 7999\n",
            "Data columns (total 11 columns):\n",
            " #   Column                 Non-Null Count  Dtype   \n",
            "---  ------                 --------------  -----   \n",
            " 0   gender                 8000 non-null   object  \n",
            " 1   age                    8000 non-null   int64   \n",
            " 2   country                8000 non-null   object  \n",
            " 3   subscription_type      8000 non-null   object  \n",
            " 4   listening_time         8000 non-null   int64   \n",
            " 5   songs_played_per_day   8000 non-null   int64   \n",
            " 6   skip_rate              8000 non-null   float64 \n",
            " 7   device_type            8000 non-null   object  \n",
            " 8   ads_listened_per_week  8000 non-null   int64   \n",
            " 9   offline_listening      8000 non-null   category\n",
            " 10  is_churned             8000 non-null   int64   \n",
            "dtypes: category(1), float64(1), int64(5), object(4)\n",
            "memory usage: 633.1+ KB\n"
          ]
        }
      ]
    },
    {
      "cell_type": "markdown",
      "source": [
        "Changing offline_listening to categorical variable, because the nature of this variable was categorical.\n",
        "\n",
        "Other categorical variables (gender, country, subscription_type, and device_type) were already in categorical/object data type."
      ],
      "metadata": {
        "id": "A8bd-Jn70NKE"
      }
    },
    {
      "cell_type": "markdown",
      "source": [
        "# Preprocessing"
      ],
      "metadata": {
        "id": "b0bmUdMAVpP5"
      }
    },
    {
      "cell_type": "code",
      "source": [
        "from google.colab import drive\n",
        "drive.mount('/content/drive')\n",
        "from IPython.display import Image\n",
        "Image('/content/drive/MyDrive/ADS505/Workflow: Data Partitioning.png')"
      ],
      "metadata": {
        "id": "RAHDTaCp3Gfd"
      },
      "execution_count": null,
      "outputs": []
    },
    {
      "cell_type": "code",
      "source": [
        "# Create the predictors (X) and outcome (y)\n",
        "\n",
        "X = df.drop(columns=['is_churned'])\n",
        "y = df['is_churned']"
      ],
      "metadata": {
        "id": "R0BBtxvR0ghv"
      },
      "execution_count": null,
      "outputs": []
    },
    {
      "cell_type": "code",
      "source": [
        "# Split the dataset to get test dataset for performance measurements\n",
        "\n",
        "X_prep, X_test, y_prep, y_test = train_test_split(\n",
        "                                    X, y,\n",
        "                                    test_size=0.2,\n",
        "                                    random_state=42,\n",
        "                                    stratify=y\n",
        ")"
      ],
      "metadata": {
        "id": "NbFnchZQ1LED"
      },
      "execution_count": null,
      "outputs": []
    },
    {
      "cell_type": "code",
      "source": [
        "X_prep.shape, X_test.shape"
      ],
      "metadata": {
        "id": "RKdtcTLlviDp"
      },
      "execution_count": null,
      "outputs": []
    },
    {
      "cell_type": "markdown",
      "source": [
        "Spliting dataset to obtain 20% test dataset as holdout for performance measurements, because 1600 records with around 25 parameters should be sufficient enough to get a general idea of model performance."
      ],
      "metadata": {
        "id": "T1kme6852QBl"
      }
    },
    {
      "cell_type": "code",
      "source": [
        "# Split the dataset to get validation dataset for Cross-validation\n",
        "\n",
        "X_train, X_valid, y_train, y_valid = train_test_split(X_prep, y_prep,\n",
        "                                                      test_size=0.4,\n",
        "                                                      random_state=42,\n",
        "                                                      stratify=y_prep)\n",
        "\n",
        "X_train.shape, X_valid.shape, X_test.shape"
      ],
      "metadata": {
        "id": "Du7pXV8n2yCy"
      },
      "execution_count": null,
      "outputs": []
    },
    {
      "cell_type": "code",
      "source": [],
      "metadata": {
        "id": "0Lt6EGlY8OZM"
      },
      "execution_count": null,
      "outputs": []
    },
    {
      "cell_type": "markdown",
      "source": [
        "Further split the prep dataset to obtain 40% as validation dataset for model optimization, because this amount should be enough to train and validate models for optimization.  "
      ],
      "metadata": {
        "id": "BG-bSyJO3qyP"
      }
    },
    {
      "cell_type": "code",
      "source": [
        "# Build proprocessing pipeline\n",
        "numeric_preproc = Pipeline(steps=[\n",
        "                            (\"scaler\", StandardScaler())\n",
        "])\n",
        "\n",
        "categorical_preproc = Pipeline(steps=[(\"ohe\", OneHotEncoder(\n",
        "                                          handle_unknown=\"ignore\",\n",
        "                                          sparse_output=False))\n",
        "])\n",
        "\n",
        "# Identify numerical and categorical columns\n",
        "numeric_cols = X_train.select_dtypes(include=['number']).columns\n",
        "categorical_cols = X_train.select_dtypes(exclude=['number']).columns\n",
        "\n",
        "preprocess = ColumnTransformer(transformers=[\n",
        "                              (\"num\", numeric_preproc, numeric_cols),\n",
        "                              (\"cat\", categorical_preproc, categorical_cols),\n",
        "    ],\n",
        "                              remainder=\"passthrough\"\n",
        ")"
      ],
      "metadata": {
        "id": "wyeDRlp-3qcH"
      },
      "execution_count": null,
      "outputs": []
    },
    {
      "cell_type": "markdown",
      "source": [
        "Building preprocess pipeline to do normalization for numeric variables and one-hot encoding for categorical variables."
      ],
      "metadata": {
        "id": "wh_U70cu8Cix"
      }
    },
    {
      "cell_type": "code",
      "source": [
        "# Fit preprocessing transformer to X_train\n",
        "\n",
        "preprocess.fit(X_train)\n",
        "\n",
        "# Apply preprocessing transformer to X_train, X_test and X_valid\n",
        "\n",
        "X_train = preprocess.transform(X_train)\n",
        "X_valid = preprocess.transform(X_valid)\n",
        "X_test = preprocess.transform(X_test)\n",
        "\n",
        "# Apply preprocessing transformer to X_prep for using functions w/\n",
        "# internal cross-validation like LogisticRegressionCV\n",
        "\n",
        "X_prep = preprocess.transform(X_prep)"
      ],
      "metadata": {
        "id": "yqSb8sPC7L7i"
      },
      "execution_count": null,
      "outputs": []
    },
    {
      "cell_type": "code",
      "source": [
        "# Checking the # of columns\n",
        "\n",
        "X_train.shape, X_valid.shape, X_test.shape, X_prep.shape"
      ],
      "metadata": {
        "id": "Jvz4zuo08f0U"
      },
      "execution_count": null,
      "outputs": []
    },
    {
      "cell_type": "code",
      "source": [
        "# Checking the columns\n",
        "\n",
        "print(preprocess.get_feature_names_out())"
      ],
      "metadata": {
        "id": "yDyUsjrQ8rTN"
      },
      "execution_count": null,
      "outputs": []
    },
    {
      "cell_type": "markdown",
      "source": [
        "Applying the preprocessing to X_train, X_valid, and X_test, as well as X_prep.  \n",
        "\n",
        "Now X_train and y_train are ready for model training, and X_valid and y_valid are ready for more manual model tuning and optimization through cross-validation.\n",
        "\n",
        "X_prep and y_prep are more for using functions with internal cross-validation, like LogisticRegressionCV for model tuning and optimization.\n",
        "\n",
        "X_test and y_test are ready for model performance measurements."
      ],
      "metadata": {
        "id": "o1c_ocfA8RSm"
      }
    },
    {
      "cell_type": "markdown",
      "source": [
        "# Feature Selection"
      ],
      "metadata": {
        "id": "wBhPzfjSVtV3"
      }
    },
    {
      "cell_type": "markdown",
      "source": [
        "# Modeling"
      ],
      "metadata": {
        "id": "BiPIOBUiVyEv"
      }
    },
    {
      "cell_type": "markdown",
      "source": [
        "## 1. Baseline Logistic Regression (no optimization w/CV)"
      ],
      "metadata": {
        "id": "oZg7J6QjHJNl"
      }
    },
    {
      "cell_type": "code",
      "source": [
        "# Drop some redundant categorical variables\n",
        "# to prevent multilinearities in logistic regression\n",
        "\n",
        "# Get the feature names after preprocessing\n",
        "feature_names = preprocess.get_feature_names_out()\n",
        "\n",
        "# Identify the indices of the columns to drop\n",
        "columns_to_drop = ['cat__gender_Female',\n",
        "                   'cat__country_AU',\n",
        "                   'cat__subscription_type_Premium',\n",
        "                   'cat__device_type_Desktop',\n",
        "                   'cat__offline_listening_0']\n",
        "\n",
        "# Ensure all columns to drop exist in the feature names\n",
        "existing_columns_to_drop = [name for name in columns_to_drop\n",
        "                            if name in feature_names]\n",
        "drop_indices = [i for i, name in enumerate(feature_names)\n",
        "                          if name in existing_columns_to_drop]\n",
        "\n",
        "# Drop the columns by index from the NumPy arrays\n",
        "X_train_lr = np.delete(X_train, drop_indices, axis=1)\n",
        "X_valid_lr = np.delete(X_valid, drop_indices, axis=1)\n",
        "X_test_lr = np.delete(X_test, drop_indices, axis=1)\n",
        "X_prep_lr = np.delete(X_prep, drop_indices, axis=1)\n",
        "\n",
        "# Build a simple logistic regression model\n",
        "\n",
        "lr = LogisticRegression(max_iter=1000, random_state=42)\n",
        "\n",
        "lr.fit(X_train_lr, y_train)\n",
        "\n",
        "print(\"Train accuracy score:\", lr.score(X_train_lr, y_train))\n",
        "print(\"Test accuracy score:\", lr.score(X_test_lr, y_test))\n",
        "\n",
        "# Get predictions on the test set for model performance\n",
        "y_pred_lr = lr.predict(X_test_lr)\n",
        "\n",
        "# Build the confusion matrix\n",
        "cm = confusion_matrix(y_test, y_pred_lr)\n",
        "\n",
        "print(\"Confusion Matrix:\\n\", cm)\n",
        "\n",
        "# Show detailed classification metrics\n",
        "print(\"\\nClassification Report:\\n\", classification_report(y_test, y_pred_lr))"
      ],
      "metadata": {
        "id": "lRoCtThC-DII"
      },
      "execution_count": null,
      "outputs": []
    },
    {
      "cell_type": "markdown",
      "source": [
        "The simple logistic regression had an okay accuracy rate of 0.74, but it failed to capture any churned cases as churned, resulting in 0% in sensitivity.\n",
        "\n",
        "It classified all test records as nonchurned."
      ],
      "metadata": {
        "id": "oXuwo_aRGKbs"
      }
    },
    {
      "cell_type": "markdown",
      "source": [
        "## 2. Optimizaed Logistic Regression (L1 penalty w/5 CV)"
      ],
      "metadata": {
        "id": "j3ezvmf_Ugfy"
      }
    },
    {
      "cell_type": "code",
      "source": [
        "# try an optimized logistic regression w/L1 penalty and 5 CV\n",
        "# X_prep_lr and y_prep used for training and optimization, because\n",
        "# logisticRegressionCV had a build-in internal Cross-validation function.\n",
        "\n",
        "lr_opt = LogisticRegressionCV(penalty='l1',\n",
        "                              solver='liblinear',\n",
        "                              cv=5,\n",
        "                              max_iter=1000,\n",
        "                              random_state=42\n",
        ")\n",
        "\n",
        "lr_opt.fit(X_prep_lr, y_prep)\n",
        "\n",
        "print(\"Train accuracy score:\", lr_opt.score(X_prep_lr, y_prep))\n",
        "print(\"Test accuracy score:\", lr_opt.score(X_test_lr, y_test))\n",
        "\n",
        "# Confusion matrix and Error rates for the simple logistic regression\n",
        "\n",
        "# Get predictions on the test set for model performance\n",
        "y_pred_lr = lr_opt.predict(X_test_lr)\n",
        "\n",
        "# Build the confusion matrix\n",
        "cm = confusion_matrix(y_test, y_pred_lr)\n",
        "\n",
        "print(\"\\nConfusion Matrix:\\n\", cm)\n",
        "\n",
        "# Show detailed classification metrics\n",
        "print(\"\\nClassification Report:\\n\", classification_report(y_test, y_pred_lr))\n"
      ],
      "metadata": {
        "id": "Tz7IDIsrHIGf"
      },
      "execution_count": null,
      "outputs": []
    },
    {
      "cell_type": "markdown",
      "source": [
        "There were no improvements on the accuracy and sensitivity in the optimized logistic regression model.\n",
        "\n",
        "This was probably because linear model might not be able to detect more patterns in this dataset."
      ],
      "metadata": {
        "id": "l4g7lsE8NpFB"
      }
    },
    {
      "cell_type": "markdown",
      "source": [
        "## Balance Logistic Regression"
      ],
      "metadata": {
        "id": "hCaJzVqeB21b"
      }
    },
    {
      "cell_type": "code",
      "source": [
        "# Michael\n",
        "\n",
        "# Build a BALANCED logistic regression model\n",
        "lr_balanced = LogisticRegression(\n",
        "    class_weight='balanced',\n",
        "    max_iter=1000,\n",
        "    random_state=42\n",
        ")\n",
        "\n",
        "lr_balanced.fit(X_train_lr, y_train)\n",
        "\n",
        "print(\"Train accuracy score:\", lr_balanced.score(X_train_lr, y_train))\n",
        "print(\"Test accuracy score:\", lr_balanced.score(X_test_lr, y_test))\n",
        "\n",
        "# Confusion matrix and Error rates for the balanced logistic regression\n",
        "# Get predictions on the test set for model performance\n",
        "y_pred_lr = lr_balanced.predict(X_test_lr)\n",
        "\n",
        "# Build the confusion matrix\n",
        "cm = confusion_matrix(y_test, y_pred_lr)\n",
        "print(\"\\nConfusion Matrix:\\n\", cm)\n",
        "\n",
        "# Show detailed classification metrics\n",
        "print(\"\\nClassification Report:\\n\", classification_report(y_test, y_pred_lr))"
      ],
      "metadata": {
        "id": "Uj7Inl4E8viT"
      },
      "execution_count": null,
      "outputs": []
    },
    {
      "cell_type": "markdown",
      "source": [
        "## XGBOOST w/ SMOTE"
      ],
      "metadata": {
        "id": "pa2tT148Cfdf"
      }
    },
    {
      "cell_type": "code",
      "source": [
        "# MIchael\n",
        "# Import SMOTE\n",
        "from imblearn.over_sampling import SMOTE\n",
        "from xgboost import XGBClassifier\n",
        "\n",
        "# Apply SMOTE to balance the training data\n",
        "smote = SMOTE(random_state=42)\n",
        "X_train_balanced, y_train_balanced = smote.fit_resample(X_train, y_train)\n",
        "\n",
        "print(f\"Original training set: {X_train.shape}\")\n",
        "print(f\"Balanced training set after SMOTE: {X_train_balanced.shape}\")\n",
        "print(\"\\nClass distribution after SMOTE:\")\n",
        "print(pd.Series(y_train_balanced).value_counts())\n",
        "\n",
        "# Build XGBoost model (no scale_pos_weight needed since SMOTE balanced the data)\n",
        "xgb_smote = XGBClassifier(\n",
        "    n_estimators=100,\n",
        "    max_depth=5,\n",
        "    learning_rate=0.1,\n",
        "    random_state=42,\n",
        "    eval_metric='logloss',\n",
        "    use_label_encoder=False\n",
        ")\n",
        "\n",
        "# Train on SMOTE-balanced data\n",
        "xgb_smote.fit(X_train_balanced, y_train_balanced)\n",
        "\n",
        "print(\"\\nTrain accuracy score:\", xgb_smote.score(X_train_balanced, y_train_balanced))\n",
        "print(\"Test accuracy score:\", xgb_smote.score(X_test, y_test))\n",
        "\n",
        "# Confusion matrix and Error rates\n",
        "# Get predictions on the test set for model performance\n",
        "y_pred_xgb = xgb_smote.predict(X_test)\n",
        "\n",
        "# Build the confusion matrix\n",
        "cm = confusion_matrix(y_test, y_pred_xgb)\n",
        "print(\"\\nConfusion Matrix:\\n\", cm)\n",
        "\n",
        "# Show detailed classification metrics\n",
        "print(\"\\nClassification Report:\\n\", classification_report(y_test, y_pred_xgb))"
      ],
      "metadata": {
        "id": "ED_EUexQAhF5"
      },
      "execution_count": null,
      "outputs": []
    },
    {
      "cell_type": "markdown",
      "source": [
        "## XGBoost w/ Scale"
      ],
      "metadata": {
        "id": "fVOundXyCrWi"
      }
    },
    {
      "cell_type": "code",
      "source": [
        "#Michael\n",
        "\n",
        "# Build XGBoost model with scale_pos_weight for class imbalance\n",
        "xgb = XGBClassifier(\n",
        "    scale_pos_weight=3,\n",
        "    n_estimators=100,\n",
        "    max_depth=5,\n",
        "    learning_rate=0.1,\n",
        "    random_state=42,\n",
        "    eval_metric='logloss',\n",
        "    use_label_encoder=False\n",
        ")\n",
        "\n",
        "# Train on original (unbalanced) data\n",
        "xgb.fit(X_train, y_train)\n",
        "\n",
        "print(\"Train accuracy score:\", xgb.score(X_train, y_train))\n",
        "print(\"Test accuracy score:\", xgb.score(X_test, y_test))\n",
        "\n",
        "# Confusion matrix and Error rates\n",
        "# Get predictions on the test set for model performance\n",
        "y_pred_xgb = xgb.predict(X_test)\n",
        "\n",
        "# Build the confusion matrix\n",
        "cm = confusion_matrix(y_test, y_pred_xgb)\n",
        "print(\"\\nConfusion Matrix:\\n\", cm)\n",
        "\n",
        "# Show detailed classification metrics\n",
        "print(\"\\nClassification Report:\\n\", classification_report(y_test, y_pred_xgb))"
      ],
      "metadata": {
        "id": "uXkw-Fb3Copx"
      },
      "execution_count": null,
      "outputs": []
    },
    {
      "cell_type": "markdown",
      "source": [
        "# Result & Evaluation"
      ],
      "metadata": {
        "id": "p5_7hbGcV1vt"
      }
    },
    {
      "cell_type": "code",
      "source": [],
      "metadata": {
        "id": "AcAIbzgVFn7b"
      },
      "execution_count": null,
      "outputs": []
    }
  ]
}